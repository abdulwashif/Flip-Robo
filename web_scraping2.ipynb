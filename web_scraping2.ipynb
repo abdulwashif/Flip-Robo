{
 "cells": [
  {
   "cell_type": "code",
   "execution_count": 1,
   "id": "e15d4ce6",
   "metadata": {},
   "outputs": [
    {
     "name": "stdout",
     "output_type": "stream",
     "text": [
      "Requirement already satisfied: selenium in c:\\users\\dell indpiron 15\\anaconda3\\lib\\site-packages (3.141.0)\n",
      "Requirement already satisfied: urllib3 in c:\\users\\dell indpiron 15\\anaconda3\\lib\\site-packages (from selenium) (1.26.4)\n"
     ]
    }
   ],
   "source": [
    "#first install selenium\n",
    "!pip install selenium"
   ]
  },
  {
   "cell_type": "code",
   "execution_count": 2,
   "id": "649f6da0",
   "metadata": {},
   "outputs": [],
   "source": [
    "#import libraries\n",
    "import selenium\n",
    "import pandas as pd\n",
    "from selenium import webdriver\n",
    "from selenium.webdriver.common.keys import Keys\n",
    "from selenium.common.exceptions import NoSuchElementException, ElementClickInterceptedException\n",
    "from selenium import webdriver\n",
    "import time"
   ]
  },
  {
   "cell_type": "code",
   "execution_count": 3,
   "id": "47a0fe28",
   "metadata": {},
   "outputs": [],
   "source": [
    "#connect to web driver\n",
    "driver = webdriver.Chrome(r\"D:\\Download\\chromedriver.exe\")"
   ]
  },
  {
   "cell_type": "code",
   "execution_count": 4,
   "id": "6372788c",
   "metadata": {},
   "outputs": [],
   "source": [
    "url ='https://www.naukri.com/'\n",
    "driver.get(url)"
   ]
  },
  {
   "cell_type": "code",
   "execution_count": 5,
   "id": "46cc6ded",
   "metadata": {},
   "outputs": [
    {
     "data": {
      "text/plain": [
       "<selenium.webdriver.remote.webelement.WebElement (session=\"4843c73981ded8e99cf34a8427491ad1\", element=\"c77b5f8d-d3d5-4a01-85d8-9f4f0601ece7\")>"
      ]
     },
     "execution_count": 5,
     "metadata": {},
     "output_type": "execute_result"
    }
   ],
   "source": [
    "search_job = driver.find_element_by_id(\"qsb-keyword-sugg\")\n",
    "search_job"
   ]
  },
  {
   "cell_type": "code",
   "execution_count": 6,
   "id": "0aa8b8db",
   "metadata": {},
   "outputs": [],
   "source": [
    "#write on search bar\n",
    "search_job.send_keys('Data Analyst')"
   ]
  },
  {
   "cell_type": "code",
   "execution_count": 7,
   "id": "9a146b11",
   "metadata": {},
   "outputs": [
    {
     "data": {
      "text/plain": [
       "<selenium.webdriver.remote.webelement.WebElement (session=\"4843c73981ded8e99cf34a8427491ad1\", element=\"cd94da10-bcba-4e7a-913e-fa3a5d63492b\")>"
      ]
     },
     "execution_count": 7,
     "metadata": {},
     "output_type": "execute_result"
    }
   ],
   "source": [
    "#finding element for job location bar\n",
    "search_loc = driver.find_element_by_id(\"qsb-location-sugg\")\n",
    "search_loc"
   ]
  },
  {
   "cell_type": "code",
   "execution_count": 8,
   "id": "e08ef08f",
   "metadata": {},
   "outputs": [],
   "source": [
    "search_loc.send_keys('Bangalore')"
   ]
  },
  {
   "cell_type": "code",
   "execution_count": 9,
   "id": "cab3d304",
   "metadata": {},
   "outputs": [],
   "source": [
    "#click by using x path function\n",
    "search_btn = driver.find_element_by_xpath(\"//button[@class='btn']\")\n",
    "search_btn.click()"
   ]
  },
  {
   "cell_type": "code",
   "execution_count": 19,
   "id": "94b78c9f",
   "metadata": {},
   "outputs": [
    {
     "data": {
      "text/plain": [
       "[<selenium.webdriver.remote.webelement.WebElement (session=\"4843c73981ded8e99cf34a8427491ad1\", element=\"e2b595f3-cba9-4dd3-8351-7b27e98c84af\")>,\n",
       " <selenium.webdriver.remote.webelement.WebElement (session=\"4843c73981ded8e99cf34a8427491ad1\", element=\"ca5ce4c8-fec6-4cf1-9ed0-f61a11f581a2\")>,\n",
       " <selenium.webdriver.remote.webelement.WebElement (session=\"4843c73981ded8e99cf34a8427491ad1\", element=\"88169068-8d21-4dfc-910f-b16c6acfa10e\")>,\n",
       " <selenium.webdriver.remote.webelement.WebElement (session=\"4843c73981ded8e99cf34a8427491ad1\", element=\"1d189531-7e78-4a96-98df-0fe3ab1e2489\")>,\n",
       " <selenium.webdriver.remote.webelement.WebElement (session=\"4843c73981ded8e99cf34a8427491ad1\", element=\"5595f7c8-d92a-4c6a-bbf8-d9795c92ee5d\")>,\n",
       " <selenium.webdriver.remote.webelement.WebElement (session=\"4843c73981ded8e99cf34a8427491ad1\", element=\"b5571abe-3d26-4cb8-be00-1873e0cc3d2d\")>,\n",
       " <selenium.webdriver.remote.webelement.WebElement (session=\"4843c73981ded8e99cf34a8427491ad1\", element=\"ebda93b3-ee86-4d0a-9951-7e850baae8a5\")>,\n",
       " <selenium.webdriver.remote.webelement.WebElement (session=\"4843c73981ded8e99cf34a8427491ad1\", element=\"2bcfa30b-c719-475b-a84f-d22ee7544776\")>,\n",
       " <selenium.webdriver.remote.webelement.WebElement (session=\"4843c73981ded8e99cf34a8427491ad1\", element=\"5b1ba4e5-2d07-4648-94a5-f634d31868b6\")>,\n",
       " <selenium.webdriver.remote.webelement.WebElement (session=\"4843c73981ded8e99cf34a8427491ad1\", element=\"fd5cfc93-aa0c-430e-8b08-4da3c8fd53af\")>,\n",
       " <selenium.webdriver.remote.webelement.WebElement (session=\"4843c73981ded8e99cf34a8427491ad1\", element=\"0029b1b7-1777-4852-b024-206eab33c1e8\")>,\n",
       " <selenium.webdriver.remote.webelement.WebElement (session=\"4843c73981ded8e99cf34a8427491ad1\", element=\"96e72b01-a84c-4c09-8236-7f74ada4a5a7\")>,\n",
       " <selenium.webdriver.remote.webelement.WebElement (session=\"4843c73981ded8e99cf34a8427491ad1\", element=\"8ad4e05e-738b-4cfa-b50f-9b3426c4f0b0\")>,\n",
       " <selenium.webdriver.remote.webelement.WebElement (session=\"4843c73981ded8e99cf34a8427491ad1\", element=\"07d93ee6-2f91-47dc-bb61-5fa835977046\")>,\n",
       " <selenium.webdriver.remote.webelement.WebElement (session=\"4843c73981ded8e99cf34a8427491ad1\", element=\"0d6c08d6-56da-4910-8327-4fd97958ccac\")>,\n",
       " <selenium.webdriver.remote.webelement.WebElement (session=\"4843c73981ded8e99cf34a8427491ad1\", element=\"ec70513d-06be-4384-bb9e-437a01e349c4\")>,\n",
       " <selenium.webdriver.remote.webelement.WebElement (session=\"4843c73981ded8e99cf34a8427491ad1\", element=\"2576736d-a660-401a-9c27-50dd1da697b0\")>,\n",
       " <selenium.webdriver.remote.webelement.WebElement (session=\"4843c73981ded8e99cf34a8427491ad1\", element=\"cb47aef2-6914-44be-8245-445cc113f3d2\")>,\n",
       " <selenium.webdriver.remote.webelement.WebElement (session=\"4843c73981ded8e99cf34a8427491ad1\", element=\"f0a497ae-abfb-47fa-a359-62c6811b9dc2\")>,\n",
       " <selenium.webdriver.remote.webelement.WebElement (session=\"4843c73981ded8e99cf34a8427491ad1\", element=\"02e58298-7ec8-49f6-97c6-f138d50d242b\")>]"
      ]
     },
     "execution_count": 19,
     "metadata": {},
     "output_type": "execute_result"
    }
   ],
   "source": [
    "#have all the tags having job title\n",
    "title_tags = driver.find_elements_by_xpath(\"//a[@class='title fw500 ellipsis']\")\n",
    "title_tags"
   ]
  },
  {
   "cell_type": "code",
   "execution_count": 20,
   "id": "dda9c9ec",
   "metadata": {},
   "outputs": [
    {
     "data": {
      "text/plain": [
       "['Data Scientist / Data Analyst -Business Analyst',\n",
       " 'Junior Data Analyst',\n",
       " 'Junior Data Analyst',\n",
       " 'Network Design & Data Analyst',\n",
       " 'Market Data Analyst',\n",
       " 'Data analysts',\n",
       " 'Data Analyst',\n",
       " 'Consultant - Data Analyst',\n",
       " 'Assistant Vice President - MIS & Reporting ( Business Data Analyst)',\n",
       " 'Data Analyst',\n",
       " 'Data Analyst',\n",
       " 'Business Data Analyst - MIS & Reporting',\n",
       " 'Data Analyst',\n",
       " 'Data Analyst',\n",
       " 'Market Data Business Analyst,',\n",
       " 'Excel VBA Jobs Bangalore | VBA data analyst Jobs',\n",
       " 'Software Developer / Web Developer/data analyst',\n",
       " 'Data Analyst',\n",
       " 'Senior Data Analyst',\n",
       " 'Data Analyst – Financial, Healthcare, Sports Betting']"
      ]
     },
     "execution_count": 20,
     "metadata": {},
     "output_type": "execute_result"
    }
   ],
   "source": [
    "job_titles = []\n",
    "for i in title_tags:\n",
    "    job_titles.append(i.text)\n",
    "        \n",
    "job_titles"
   ]
  },
  {
   "cell_type": "code",
   "execution_count": 21,
   "id": "24580305",
   "metadata": {},
   "outputs": [
    {
     "data": {
      "text/plain": [
       "[<selenium.webdriver.remote.webelement.WebElement (session=\"4843c73981ded8e99cf34a8427491ad1\", element=\"50dff843-f8ac-46f3-9aeb-b38d7e55e6cb\")>,\n",
       " <selenium.webdriver.remote.webelement.WebElement (session=\"4843c73981ded8e99cf34a8427491ad1\", element=\"18376cb0-3a52-4612-81f8-f4a9d0ea6ae4\")>,\n",
       " <selenium.webdriver.remote.webelement.WebElement (session=\"4843c73981ded8e99cf34a8427491ad1\", element=\"de44aa75-bad3-47e8-8dbe-8e77fe1ae9bd\")>,\n",
       " <selenium.webdriver.remote.webelement.WebElement (session=\"4843c73981ded8e99cf34a8427491ad1\", element=\"1e919651-9d85-431d-88d0-6250f881ca87\")>,\n",
       " <selenium.webdriver.remote.webelement.WebElement (session=\"4843c73981ded8e99cf34a8427491ad1\", element=\"9fa77687-24c9-45b3-b3f1-6941aada6520\")>,\n",
       " <selenium.webdriver.remote.webelement.WebElement (session=\"4843c73981ded8e99cf34a8427491ad1\", element=\"18d218b6-3cd7-4fd7-97c4-d0856494ed87\")>,\n",
       " <selenium.webdriver.remote.webelement.WebElement (session=\"4843c73981ded8e99cf34a8427491ad1\", element=\"a588f18c-8bad-40c2-ae20-bd6cccf0f628\")>,\n",
       " <selenium.webdriver.remote.webelement.WebElement (session=\"4843c73981ded8e99cf34a8427491ad1\", element=\"46825613-6c02-46a9-b231-6a2b41e9fe81\")>,\n",
       " <selenium.webdriver.remote.webelement.WebElement (session=\"4843c73981ded8e99cf34a8427491ad1\", element=\"00886f6d-3689-44c5-af74-735c20bc4639\")>,\n",
       " <selenium.webdriver.remote.webelement.WebElement (session=\"4843c73981ded8e99cf34a8427491ad1\", element=\"c40891df-fde8-4cfe-9a80-cbaf1f8867ab\")>,\n",
       " <selenium.webdriver.remote.webelement.WebElement (session=\"4843c73981ded8e99cf34a8427491ad1\", element=\"2bf04473-f871-4ad0-a0db-35b22928a8cd\")>,\n",
       " <selenium.webdriver.remote.webelement.WebElement (session=\"4843c73981ded8e99cf34a8427491ad1\", element=\"0c044ebf-6b39-42d5-8c23-68081d14c3ae\")>,\n",
       " <selenium.webdriver.remote.webelement.WebElement (session=\"4843c73981ded8e99cf34a8427491ad1\", element=\"fd1e1859-59de-4eb8-a87e-3d0c47a992ca\")>,\n",
       " <selenium.webdriver.remote.webelement.WebElement (session=\"4843c73981ded8e99cf34a8427491ad1\", element=\"d8a8c22e-fc0c-4dd3-84f3-4c8729e1019e\")>,\n",
       " <selenium.webdriver.remote.webelement.WebElement (session=\"4843c73981ded8e99cf34a8427491ad1\", element=\"3a05463b-9a63-4aec-bd79-28d547ce8b9b\")>,\n",
       " <selenium.webdriver.remote.webelement.WebElement (session=\"4843c73981ded8e99cf34a8427491ad1\", element=\"6dfd175a-2a7f-4d04-839a-d3e14396e727\")>,\n",
       " <selenium.webdriver.remote.webelement.WebElement (session=\"4843c73981ded8e99cf34a8427491ad1\", element=\"8324b5a2-ac5c-4e0b-a24b-6da4e9aa6bc0\")>,\n",
       " <selenium.webdriver.remote.webelement.WebElement (session=\"4843c73981ded8e99cf34a8427491ad1\", element=\"8206eda7-bd0f-4900-a0bb-01236adbfcb1\")>,\n",
       " <selenium.webdriver.remote.webelement.WebElement (session=\"4843c73981ded8e99cf34a8427491ad1\", element=\"74947730-3494-45a0-aed8-e58a1a313168\")>,\n",
       " <selenium.webdriver.remote.webelement.WebElement (session=\"4843c73981ded8e99cf34a8427491ad1\", element=\"39b24775-3f3d-471c-9bb7-cae487ea164c\")>]"
      ]
     },
     "execution_count": 21,
     "metadata": {},
     "output_type": "execute_result"
    }
   ],
   "source": [
    "#scrap company names\n",
    "comp_tags = driver.find_elements_by_xpath(\"//a[@class='subTitle ellipsis fleft']\")\n",
    "comp_tags"
   ]
  },
  {
   "cell_type": "code",
   "execution_count": 22,
   "id": "74c0a150",
   "metadata": {},
   "outputs": [
    {
     "data": {
      "text/plain": [
       "['Inflexion Analytix Private Limited',\n",
       " 'Simplilearn',\n",
       " 'Simplilearn',\n",
       " 'Dell International Services India Private Limited',\n",
       " 'Gervitech Technologies',\n",
       " 'IBM India Pvt. Limited',\n",
       " 'CARNATION INFOTECH PRIVATE LIMITED',\n",
       " 'Flipkart Internet Private Limited',\n",
       " 'INTERTRUSTVITEOS CORPORATE AND FUND SERVICES PVT. LTD.',\n",
       " 'Flipkart Internet Private Limited',\n",
       " 'Uber',\n",
       " 'INTERTRUST GROUP',\n",
       " 'Infoservicesllc',\n",
       " 'Clarivate Analytics',\n",
       " 'Luxoft',\n",
       " 'Mind Circus Innovation',\n",
       " 'Edubridgeindia',\n",
       " 'Siemens Limited',\n",
       " 'Liventus, Inc.',\n",
       " 'Quantsys']"
      ]
     },
     "execution_count": 22,
     "metadata": {},
     "output_type": "execute_result"
    }
   ],
   "source": [
    "comp_name=[]\n",
    "for i in comp_tags:\n",
    "    comp_name.append(i.text)\n",
    "comp_name"
   ]
  },
  {
   "cell_type": "code",
   "execution_count": 23,
   "id": "58228094",
   "metadata": {},
   "outputs": [
    {
     "data": {
      "text/plain": [
       "[<selenium.webdriver.remote.webelement.WebElement (session=\"4843c73981ded8e99cf34a8427491ad1\", element=\"3febd224-4258-4a33-b816-6ba65948d4a9\")>,\n",
       " <selenium.webdriver.remote.webelement.WebElement (session=\"4843c73981ded8e99cf34a8427491ad1\", element=\"4d063941-853a-45a2-bb59-ddecf7a6032f\")>,\n",
       " <selenium.webdriver.remote.webelement.WebElement (session=\"4843c73981ded8e99cf34a8427491ad1\", element=\"c705b37a-6c43-49a0-a8ff-22c8c72e5b11\")>,\n",
       " <selenium.webdriver.remote.webelement.WebElement (session=\"4843c73981ded8e99cf34a8427491ad1\", element=\"97b44357-effd-4e7b-a40a-fcaf3885ac23\")>,\n",
       " <selenium.webdriver.remote.webelement.WebElement (session=\"4843c73981ded8e99cf34a8427491ad1\", element=\"a06ded5e-caa4-4550-a607-6d2af2283a50\")>,\n",
       " <selenium.webdriver.remote.webelement.WebElement (session=\"4843c73981ded8e99cf34a8427491ad1\", element=\"4fa77e95-2337-4045-9ab5-04c5cb1d9f93\")>,\n",
       " <selenium.webdriver.remote.webelement.WebElement (session=\"4843c73981ded8e99cf34a8427491ad1\", element=\"bcb91a4d-c782-4221-99b9-ef0acb46e3f3\")>,\n",
       " <selenium.webdriver.remote.webelement.WebElement (session=\"4843c73981ded8e99cf34a8427491ad1\", element=\"07acaace-f108-453f-a5b4-085d4aa073f5\")>,\n",
       " <selenium.webdriver.remote.webelement.WebElement (session=\"4843c73981ded8e99cf34a8427491ad1\", element=\"b0719d5e-d6c7-4589-81f1-35bf993457da\")>,\n",
       " <selenium.webdriver.remote.webelement.WebElement (session=\"4843c73981ded8e99cf34a8427491ad1\", element=\"5671d725-8524-480f-8e7b-80ee97ffe5a3\")>,\n",
       " <selenium.webdriver.remote.webelement.WebElement (session=\"4843c73981ded8e99cf34a8427491ad1\", element=\"8fc65f35-f308-41eb-aa7a-6553c42b9c26\")>,\n",
       " <selenium.webdriver.remote.webelement.WebElement (session=\"4843c73981ded8e99cf34a8427491ad1\", element=\"72bdb8b6-6f6f-4572-86d3-a4ccae820dc2\")>,\n",
       " <selenium.webdriver.remote.webelement.WebElement (session=\"4843c73981ded8e99cf34a8427491ad1\", element=\"3270fc23-2ba8-40e3-b48c-931bbe109ec8\")>,\n",
       " <selenium.webdriver.remote.webelement.WebElement (session=\"4843c73981ded8e99cf34a8427491ad1\", element=\"c515c5d6-3385-4ee9-aedb-e3ade8b9b444\")>,\n",
       " <selenium.webdriver.remote.webelement.WebElement (session=\"4843c73981ded8e99cf34a8427491ad1\", element=\"ea631904-0f49-4c95-aa1c-306c1eaabbe9\")>,\n",
       " <selenium.webdriver.remote.webelement.WebElement (session=\"4843c73981ded8e99cf34a8427491ad1\", element=\"db62f335-f1ca-42ca-9635-a35733bb3a6b\")>,\n",
       " <selenium.webdriver.remote.webelement.WebElement (session=\"4843c73981ded8e99cf34a8427491ad1\", element=\"399efdbe-fabd-4c96-befc-7f7075e16142\")>,\n",
       " <selenium.webdriver.remote.webelement.WebElement (session=\"4843c73981ded8e99cf34a8427491ad1\", element=\"72ec3716-2019-4ef1-84a7-4b4eb7075ae0\")>,\n",
       " <selenium.webdriver.remote.webelement.WebElement (session=\"4843c73981ded8e99cf34a8427491ad1\", element=\"f2341548-f4fc-4fce-bb67-41158fb77599\")>,\n",
       " <selenium.webdriver.remote.webelement.WebElement (session=\"4843c73981ded8e99cf34a8427491ad1\", element=\"72434333-e54c-440f-9b27-aecfae0d14c7\")>]"
      ]
     },
     "execution_count": 23,
     "metadata": {},
     "output_type": "execute_result"
    }
   ],
   "source": [
    "exp_tags = driver.find_elements_by_xpath(\"//li[@class='fleft grey-text br2 placeHolderLi experience']/span\")\n",
    "exp_tags"
   ]
  },
  {
   "cell_type": "code",
   "execution_count": 24,
   "id": "a433bd3c",
   "metadata": {},
   "outputs": [
    {
     "data": {
      "text/plain": [
       "['0-3 Yrs',\n",
       " '0-2 Yrs',\n",
       " '0-2 Yrs',\n",
       " '0-2 Yrs',\n",
       " '0-5 Yrs',\n",
       " '5-10 Yrs',\n",
       " '0-5 Yrs',\n",
       " '0-2 Yrs',\n",
       " '10-15 Yrs',\n",
       " '3-5 Yrs',\n",
       " '1-3 Yrs',\n",
       " '3-8 Yrs',\n",
       " '7-12 Yrs',\n",
       " '1-2 Yrs',\n",
       " '2-6 Yrs',\n",
       " '0-2 Yrs',\n",
       " '0-1 Yrs',\n",
       " '0-5 Yrs',\n",
       " '5-8 Yrs',\n",
       " '2-4 Yrs']"
      ]
     },
     "execution_count": 24,
     "metadata": {},
     "output_type": "execute_result"
    }
   ],
   "source": [
    "expn=[]\n",
    "for i in exp_tags:\n",
    "    expn.append(i.text)\n",
    "    \n",
    "expn"
   ]
  },
  {
   "cell_type": "code",
   "execution_count": 25,
   "id": "60d698f2",
   "metadata": {},
   "outputs": [
    {
     "data": {
      "text/plain": [
       "[<selenium.webdriver.remote.webelement.WebElement (session=\"4843c73981ded8e99cf34a8427491ad1\", element=\"1a54b7be-7f29-4e64-8e70-c1a86e418dbb\")>,\n",
       " <selenium.webdriver.remote.webelement.WebElement (session=\"4843c73981ded8e99cf34a8427491ad1\", element=\"e4089ef0-7990-4756-b620-23cdc3700daa\")>,\n",
       " <selenium.webdriver.remote.webelement.WebElement (session=\"4843c73981ded8e99cf34a8427491ad1\", element=\"bff4da49-1d86-406c-aa6c-8c264d4d2c92\")>,\n",
       " <selenium.webdriver.remote.webelement.WebElement (session=\"4843c73981ded8e99cf34a8427491ad1\", element=\"b76256d3-0f38-4df7-b345-2923f7bf0a24\")>,\n",
       " <selenium.webdriver.remote.webelement.WebElement (session=\"4843c73981ded8e99cf34a8427491ad1\", element=\"d78ad87d-e7de-4bf4-836b-ac80c06e77ef\")>,\n",
       " <selenium.webdriver.remote.webelement.WebElement (session=\"4843c73981ded8e99cf34a8427491ad1\", element=\"739157a7-6edc-4933-bc4d-b45adb99bd35\")>,\n",
       " <selenium.webdriver.remote.webelement.WebElement (session=\"4843c73981ded8e99cf34a8427491ad1\", element=\"c5955c62-ebcc-4041-be13-f6497e361b7e\")>,\n",
       " <selenium.webdriver.remote.webelement.WebElement (session=\"4843c73981ded8e99cf34a8427491ad1\", element=\"22a0f102-2703-4be8-849a-ffb3c177efeb\")>,\n",
       " <selenium.webdriver.remote.webelement.WebElement (session=\"4843c73981ded8e99cf34a8427491ad1\", element=\"fb65af1a-64bc-4562-baca-6cef4472baa5\")>,\n",
       " <selenium.webdriver.remote.webelement.WebElement (session=\"4843c73981ded8e99cf34a8427491ad1\", element=\"b1677d4b-d285-4a4d-bad0-4fc740aee11d\")>,\n",
       " <selenium.webdriver.remote.webelement.WebElement (session=\"4843c73981ded8e99cf34a8427491ad1\", element=\"803cc974-ad60-448a-a9fc-eb8ebf1a9d43\")>,\n",
       " <selenium.webdriver.remote.webelement.WebElement (session=\"4843c73981ded8e99cf34a8427491ad1\", element=\"4785dcbb-796d-451f-9109-f8916953950e\")>,\n",
       " <selenium.webdriver.remote.webelement.WebElement (session=\"4843c73981ded8e99cf34a8427491ad1\", element=\"860e37a9-19a9-41fd-a0ef-ef1e81ee7121\")>,\n",
       " <selenium.webdriver.remote.webelement.WebElement (session=\"4843c73981ded8e99cf34a8427491ad1\", element=\"4beb62ef-f5f8-4c01-83f6-9e23842b4d9a\")>,\n",
       " <selenium.webdriver.remote.webelement.WebElement (session=\"4843c73981ded8e99cf34a8427491ad1\", element=\"471aa128-4324-4146-8383-81758529372b\")>,\n",
       " <selenium.webdriver.remote.webelement.WebElement (session=\"4843c73981ded8e99cf34a8427491ad1\", element=\"3c9618bb-3294-48f9-863c-c023f2d196ef\")>,\n",
       " <selenium.webdriver.remote.webelement.WebElement (session=\"4843c73981ded8e99cf34a8427491ad1\", element=\"8e117ef2-ddcc-4a81-b039-0197efe89206\")>,\n",
       " <selenium.webdriver.remote.webelement.WebElement (session=\"4843c73981ded8e99cf34a8427491ad1\", element=\"8a720ef6-3637-49b7-acd8-6454253cdb5e\")>,\n",
       " <selenium.webdriver.remote.webelement.WebElement (session=\"4843c73981ded8e99cf34a8427491ad1\", element=\"8ab1e885-0121-4cf9-885f-d8378e9b637f\")>,\n",
       " <selenium.webdriver.remote.webelement.WebElement (session=\"4843c73981ded8e99cf34a8427491ad1\", element=\"bb13aba8-64f1-48b6-a6b7-cc5f906b8fdf\")>]"
      ]
     },
     "execution_count": 25,
     "metadata": {},
     "output_type": "execute_result"
    }
   ],
   "source": [
    "sal_tags = driver.find_elements_by_xpath(\"//li[@class='fleft grey-text br2 placeHolderLi salary']/span\")\n",
    "sal_tags"
   ]
  },
  {
   "cell_type": "code",
   "execution_count": 26,
   "id": "2610bcaa",
   "metadata": {},
   "outputs": [
    {
     "data": {
      "text/plain": [
       "['3,50,000 - 4,50,000 PA.',\n",
       " '3,50,000 - 5,00,000 PA.',\n",
       " '3,50,000 - 5,00,000 PA.',\n",
       " 'Not disclosed',\n",
       " '3,25,000 - 6,00,000 PA.',\n",
       " 'Not disclosed',\n",
       " 'Not disclosed',\n",
       " 'Not disclosed',\n",
       " 'Not disclosed',\n",
       " 'Not disclosed',\n",
       " 'Not disclosed',\n",
       " 'Not disclosed',\n",
       " '15,00,000 - 30,00,000 PA.',\n",
       " 'Not disclosed',\n",
       " 'Not disclosed',\n",
       " '90,000 - 2,50,000 PA.',\n",
       " '50,000 - 70,000 PA.',\n",
       " 'Not disclosed',\n",
       " '10,00,000 - 20,00,000 PA.',\n",
       " '3,25,000 - 4,75,000 PA.']"
      ]
     },
     "execution_count": 26,
     "metadata": {},
     "output_type": "execute_result"
    }
   ],
   "source": [
    "salary = []\n",
    "for i in sal_tags:\n",
    "    salary.append(i.text)\n",
    "salary"
   ]
  },
  {
   "cell_type": "code",
   "execution_count": 27,
   "id": "2fdc2381",
   "metadata": {},
   "outputs": [
    {
     "data": {
      "text/html": [
       "<div>\n",
       "<style scoped>\n",
       "    .dataframe tbody tr th:only-of-type {\n",
       "        vertical-align: middle;\n",
       "    }\n",
       "\n",
       "    .dataframe tbody tr th {\n",
       "        vertical-align: top;\n",
       "    }\n",
       "\n",
       "    .dataframe thead th {\n",
       "        text-align: right;\n",
       "    }\n",
       "</style>\n",
       "<table border=\"1\" class=\"dataframe\">\n",
       "  <thead>\n",
       "    <tr style=\"text-align: right;\">\n",
       "      <th></th>\n",
       "      <th>JOB TITLE</th>\n",
       "      <th>EXPERIENCE</th>\n",
       "      <th>SALARY</th>\n",
       "    </tr>\n",
       "  </thead>\n",
       "  <tbody>\n",
       "    <tr>\n",
       "      <th>0</th>\n",
       "      <td>Inflexion Analytix Private Limited</td>\n",
       "      <td>0-3 Yrs</td>\n",
       "      <td>3,50,000 - 4,50,000 PA.</td>\n",
       "    </tr>\n",
       "    <tr>\n",
       "      <th>1</th>\n",
       "      <td>Simplilearn</td>\n",
       "      <td>0-2 Yrs</td>\n",
       "      <td>3,50,000 - 5,00,000 PA.</td>\n",
       "    </tr>\n",
       "    <tr>\n",
       "      <th>2</th>\n",
       "      <td>Simplilearn</td>\n",
       "      <td>0-2 Yrs</td>\n",
       "      <td>3,50,000 - 5,00,000 PA.</td>\n",
       "    </tr>\n",
       "    <tr>\n",
       "      <th>3</th>\n",
       "      <td>Dell International Services India Private Limited</td>\n",
       "      <td>0-2 Yrs</td>\n",
       "      <td>Not disclosed</td>\n",
       "    </tr>\n",
       "    <tr>\n",
       "      <th>4</th>\n",
       "      <td>Gervitech Technologies</td>\n",
       "      <td>0-5 Yrs</td>\n",
       "      <td>3,25,000 - 6,00,000 PA.</td>\n",
       "    </tr>\n",
       "    <tr>\n",
       "      <th>5</th>\n",
       "      <td>IBM India Pvt. Limited</td>\n",
       "      <td>5-10 Yrs</td>\n",
       "      <td>Not disclosed</td>\n",
       "    </tr>\n",
       "    <tr>\n",
       "      <th>6</th>\n",
       "      <td>CARNATION INFOTECH PRIVATE LIMITED</td>\n",
       "      <td>0-5 Yrs</td>\n",
       "      <td>Not disclosed</td>\n",
       "    </tr>\n",
       "    <tr>\n",
       "      <th>7</th>\n",
       "      <td>Flipkart Internet Private Limited</td>\n",
       "      <td>0-2 Yrs</td>\n",
       "      <td>Not disclosed</td>\n",
       "    </tr>\n",
       "    <tr>\n",
       "      <th>8</th>\n",
       "      <td>INTERTRUSTVITEOS CORPORATE AND FUND SERVICES P...</td>\n",
       "      <td>10-15 Yrs</td>\n",
       "      <td>Not disclosed</td>\n",
       "    </tr>\n",
       "    <tr>\n",
       "      <th>9</th>\n",
       "      <td>Flipkart Internet Private Limited</td>\n",
       "      <td>3-5 Yrs</td>\n",
       "      <td>Not disclosed</td>\n",
       "    </tr>\n",
       "  </tbody>\n",
       "</table>\n",
       "</div>"
      ],
      "text/plain": [
       "                                           JOB TITLE EXPERIENCE  \\\n",
       "0                 Inflexion Analytix Private Limited    0-3 Yrs   \n",
       "1                                        Simplilearn    0-2 Yrs   \n",
       "2                                        Simplilearn    0-2 Yrs   \n",
       "3  Dell International Services India Private Limited    0-2 Yrs   \n",
       "4                             Gervitech Technologies    0-5 Yrs   \n",
       "5                             IBM India Pvt. Limited   5-10 Yrs   \n",
       "6                 CARNATION INFOTECH PRIVATE LIMITED    0-5 Yrs   \n",
       "7                  Flipkart Internet Private Limited    0-2 Yrs   \n",
       "8  INTERTRUSTVITEOS CORPORATE AND FUND SERVICES P...  10-15 Yrs   \n",
       "9                  Flipkart Internet Private Limited    3-5 Yrs   \n",
       "\n",
       "                    SALARY  \n",
       "0  3,50,000 - 4,50,000 PA.  \n",
       "1  3,50,000 - 5,00,000 PA.  \n",
       "2  3,50,000 - 5,00,000 PA.  \n",
       "3            Not disclosed  \n",
       "4  3,25,000 - 6,00,000 PA.  \n",
       "5            Not disclosed  \n",
       "6            Not disclosed  \n",
       "7            Not disclosed  \n",
       "8            Not disclosed  \n",
       "9            Not disclosed  "
      ]
     },
     "execution_count": 27,
     "metadata": {},
     "output_type": "execute_result"
    }
   ],
   "source": [
    "df = pd.DataFrame({})\n",
    "df['JOB TITLE'] = comp_name\n",
    "df['EXPERIENCE'] = expn\n",
    "df['SALARY'] = salary\n",
    "\n",
    "df.head(10)"
   ]
  },
  {
   "cell_type": "markdown",
   "id": "0b3b3628",
   "metadata": {},
   "source": [
    "# Q2: Write a python program to scrape data for “Data Scientist” Job position in “Bangalore” location. You have to scrape the job-title, job-location, company_name, full job-description. You have to scrape first 10 jobs data."
   ]
  },
  {
   "cell_type": "markdown",
   "id": "e0720a13",
   "metadata": {},
   "source": [
    "# 1. first get the webpage https://www.naukri.com/"
   ]
  },
  {
   "cell_type": "code",
   "execution_count": 28,
   "id": "3204a752",
   "metadata": {},
   "outputs": [],
   "source": [
    "#connect to web driver\n",
    "driver = webdriver.Chrome(r\"D:\\Download\\chromedriver.exe\")"
   ]
  },
  {
   "cell_type": "code",
   "execution_count": 29,
   "id": "4fa9a185",
   "metadata": {},
   "outputs": [],
   "source": [
    "url ='https://www.naukri.com/'\n",
    "driver.get(url)"
   ]
  },
  {
   "cell_type": "markdown",
   "id": "2c4b4cf2",
   "metadata": {},
   "source": [
    "# 2. Enter “Data Scientist” in “Skill,Designations,Companies” field and enter “Bangalore” in “enter the location” field."
   ]
  },
  {
   "cell_type": "code",
   "execution_count": 30,
   "id": "0dcaaf1f",
   "metadata": {},
   "outputs": [
    {
     "data": {
      "text/plain": [
       "<selenium.webdriver.remote.webelement.WebElement (session=\"6bea4ab517d4434f55b786287307e0bc\", element=\"816dd4b0-7a1d-4d2d-9378-2a30564d6b87\")>"
      ]
     },
     "execution_count": 30,
     "metadata": {},
     "output_type": "execute_result"
    }
   ],
   "source": [
    "search_job = driver.find_element_by_id(\"qsb-keyword-sugg\")\n",
    "search_job"
   ]
  },
  {
   "cell_type": "code",
   "execution_count": 31,
   "id": "79ff27cb",
   "metadata": {},
   "outputs": [],
   "source": [
    "#write on search bar\n",
    "search_job.send_keys('Data Analyst')"
   ]
  },
  {
   "cell_type": "code",
   "execution_count": 32,
   "id": "91284b5f",
   "metadata": {},
   "outputs": [
    {
     "data": {
      "text/plain": [
       "<selenium.webdriver.remote.webelement.WebElement (session=\"6bea4ab517d4434f55b786287307e0bc\", element=\"4d8ebf74-e7bb-4d34-be13-6964ec84bbb7\")>"
      ]
     },
     "execution_count": 32,
     "metadata": {},
     "output_type": "execute_result"
    }
   ],
   "source": [
    "#finding element for job location bar\n",
    "search_loc = driver.find_element_by_id(\"qsb-location-sugg\")\n",
    "search_loc"
   ]
  },
  {
   "cell_type": "code",
   "execution_count": 33,
   "id": "9a558dc2",
   "metadata": {},
   "outputs": [],
   "source": [
    "#write on search bar\n",
    "search_loc.send_keys('Bangalore')"
   ]
  },
  {
   "cell_type": "markdown",
   "id": "6c89483b",
   "metadata": {},
   "source": [
    "# 3. Then click the search button. "
   ]
  },
  {
   "cell_type": "code",
   "execution_count": 34,
   "id": "d82db0f8",
   "metadata": {},
   "outputs": [],
   "source": [
    "#click by using x path function\n",
    "search_btn = driver.find_element_by_xpath(\"//button[@class='btn']\")\n",
    "search_btn.click()"
   ]
  },
  {
   "cell_type": "markdown",
   "id": "4247f730",
   "metadata": {},
   "source": [
    "# 4. Then scrape the data for the first 10 jobs results you get.\n",
    "# 5. Finally create a dataframe of the scraped data."
   ]
  },
  {
   "cell_type": "code",
   "execution_count": 35,
   "id": "ec0830cc",
   "metadata": {},
   "outputs": [],
   "source": [
    "#have all the tags having job title\n",
    "title_tags = driver.find_elements_by_xpath(\"//a[@class='title fw500 ellipsis']\")\n"
   ]
  },
  {
   "cell_type": "code",
   "execution_count": 36,
   "id": "41ac554d",
   "metadata": {},
   "outputs": [
    {
     "data": {
      "text/plain": [
       "['Data Scientist / Data Analyst -Business Analyst',\n",
       " 'Junior Data Analyst',\n",
       " 'Junior Data Analyst',\n",
       " 'Network Design & Data Analyst',\n",
       " 'Market Data Analyst',\n",
       " 'Data analysts',\n",
       " 'Data Analyst',\n",
       " 'Consultant - Data Analyst',\n",
       " 'Assistant Vice President - MIS & Reporting ( Business Data Analyst)',\n",
       " 'Data Analyst',\n",
       " 'Data Analyst',\n",
       " 'Business Data Analyst - MIS & Reporting',\n",
       " 'Data Analyst',\n",
       " 'Data Analyst',\n",
       " 'Market Data Business Analyst,',\n",
       " 'Excel VBA Jobs Bangalore | VBA data analyst Jobs',\n",
       " 'Software Developer / Web Developer/data analyst',\n",
       " 'Data Analyst',\n",
       " 'Senior Data Analyst',\n",
       " 'Data Analyst – Financial, Healthcare, Sports Betting']"
      ]
     },
     "execution_count": 36,
     "metadata": {},
     "output_type": "execute_result"
    }
   ],
   "source": [
    "job_titles = []\n",
    "for i in title_tags:\n",
    "    job_titles.append(i.text)\n",
    "        \n",
    "job_titles"
   ]
  },
  {
   "cell_type": "code",
   "execution_count": 37,
   "id": "a63abff1",
   "metadata": {},
   "outputs": [],
   "source": [
    "#scrap company names\n",
    "comp_tags = driver.find_elements_by_xpath(\"//a[@class='subTitle ellipsis fleft']\")\n"
   ]
  },
  {
   "cell_type": "code",
   "execution_count": 38,
   "id": "ba1a3112",
   "metadata": {},
   "outputs": [
    {
     "data": {
      "text/plain": [
       "['Inflexion Analytix Private Limited',\n",
       " 'Simplilearn',\n",
       " 'Simplilearn',\n",
       " 'Dell International Services India Private Limited',\n",
       " 'Gervitech Technologies',\n",
       " 'IBM India Pvt. Limited',\n",
       " 'CARNATION INFOTECH PRIVATE LIMITED',\n",
       " 'Flipkart Internet Private Limited',\n",
       " 'INTERTRUSTVITEOS CORPORATE AND FUND SERVICES PVT. LTD.',\n",
       " 'Flipkart Internet Private Limited',\n",
       " 'Uber',\n",
       " 'INTERTRUST GROUP',\n",
       " 'Infoservicesllc',\n",
       " 'Clarivate Analytics',\n",
       " 'Luxoft',\n",
       " 'Mind Circus Innovation',\n",
       " 'Edubridgeindia',\n",
       " 'Siemens Limited',\n",
       " 'Liventus, Inc.',\n",
       " 'Quantsys']"
      ]
     },
     "execution_count": 38,
     "metadata": {},
     "output_type": "execute_result"
    }
   ],
   "source": [
    "comp_name=[]\n",
    "for i in comp_tags:\n",
    "    comp_name.append(i.text)\n",
    "comp_name"
   ]
  },
  {
   "cell_type": "code",
   "execution_count": 39,
   "id": "4a34cff9",
   "metadata": {},
   "outputs": [],
   "source": [
    "exp_tags = driver.find_elements_by_xpath(\"//li[@class='fleft grey-text br2 placeHolderLi experience']/span\")\n"
   ]
  },
  {
   "cell_type": "code",
   "execution_count": 40,
   "id": "123f0f0e",
   "metadata": {},
   "outputs": [
    {
     "data": {
      "text/plain": [
       "['0-3 Yrs',\n",
       " '0-2 Yrs',\n",
       " '0-2 Yrs',\n",
       " '0-2 Yrs',\n",
       " '0-5 Yrs',\n",
       " '5-10 Yrs',\n",
       " '0-5 Yrs',\n",
       " '0-2 Yrs',\n",
       " '10-15 Yrs',\n",
       " '3-5 Yrs',\n",
       " '1-3 Yrs',\n",
       " '3-8 Yrs',\n",
       " '7-12 Yrs',\n",
       " '1-2 Yrs',\n",
       " '2-6 Yrs',\n",
       " '0-2 Yrs',\n",
       " '0-1 Yrs',\n",
       " '0-5 Yrs',\n",
       " '5-8 Yrs',\n",
       " '2-4 Yrs']"
      ]
     },
     "execution_count": 40,
     "metadata": {},
     "output_type": "execute_result"
    }
   ],
   "source": [
    "expn=[]\n",
    "for i in exp_tags:\n",
    "    expn.append(i.text)\n",
    "    \n",
    "expn"
   ]
  },
  {
   "cell_type": "code",
   "execution_count": 41,
   "id": "0b883356",
   "metadata": {},
   "outputs": [],
   "source": [
    "sal_tags = driver.find_elements_by_xpath(\"//li[@class='fleft grey-text br2 placeHolderLi salary']/span\")\n"
   ]
  },
  {
   "cell_type": "code",
   "execution_count": 42,
   "id": "f3724f39",
   "metadata": {},
   "outputs": [
    {
     "data": {
      "text/plain": [
       "['3,50,000 - 4,50,000 PA.',\n",
       " '3,50,000 - 5,00,000 PA.',\n",
       " '3,50,000 - 5,00,000 PA.',\n",
       " 'Not disclosed',\n",
       " '3,25,000 - 6,00,000 PA.',\n",
       " 'Not disclosed',\n",
       " 'Not disclosed',\n",
       " 'Not disclosed',\n",
       " 'Not disclosed',\n",
       " 'Not disclosed',\n",
       " 'Not disclosed',\n",
       " 'Not disclosed',\n",
       " '15,00,000 - 30,00,000 PA.',\n",
       " 'Not disclosed',\n",
       " 'Not disclosed',\n",
       " '90,000 - 2,50,000 PA.',\n",
       " '50,000 - 70,000 PA.',\n",
       " 'Not disclosed',\n",
       " '10,00,000 - 20,00,000 PA.',\n",
       " '3,25,000 - 4,75,000 PA.']"
      ]
     },
     "execution_count": 42,
     "metadata": {},
     "output_type": "execute_result"
    }
   ],
   "source": [
    "salary = []\n",
    "for i in sal_tags:\n",
    "    salary.append(i.text)\n",
    "salary"
   ]
  },
  {
   "cell_type": "code",
   "execution_count": 43,
   "id": "e72044bf",
   "metadata": {},
   "outputs": [
    {
     "data": {
      "text/plain": [
       "['https://www.naukri.com/job-listings-data-scientist-data-analyst-business-analyst-inflexion-analytix-private-limited-hyderabad-secunderabad-chennai-bangalore-bengaluru-0-to-3-years-020721003625?src=jobsearchDesk&sid=1625987879005476&xp=1&px=1',\n",
       " 'https://www.naukri.com/job-listings-junior-data-analyst-simplilearn-solutions-private-limited-bangalore-bengaluru-0-to-2-years-090721607152?src=jobsearchDesk&sid=1625987879005476&xp=2&px=1',\n",
       " 'https://www.naukri.com/job-listings-junior-data-analyst-simplilearn-solutions-private-limited-bangalore-bengaluru-0-to-2-years-090721007150?src=jobsearchDesk&sid=1625987879005476&xp=3&px=1',\n",
       " 'https://www.naukri.com/job-listings-network-design-data-analyst-dell-international-services-india-private-limited-bangalore-bengaluru-0-to-2-years-050721905359?src=jobsearchDesk&sid=1625987879005476&xp=4&px=1',\n",
       " 'https://www.naukri.com/job-listings-market-data-analyst-gervitech-technologies-madurai-kolkata-hyderabad-secunderabad-ahmedabad-chennai-bangalore-bengaluru-0-to-5-years-100721004169?src=jobsearchDesk&sid=1625987879005476&xp=5&px=1',\n",
       " 'https://www.naukri.com/job-listings-data-analysts-ibm-india-pvt-limited-bangalore-bengaluru-5-to-10-years-090721905779?src=jobsearchDesk&sid=1625987879005476&xp=6&px=1',\n",
       " 'https://www.naukri.com/job-listings-data-analyst-carnation-infotech-private-limited-lucknow-bangalore-bengaluru-0-to-5-years-090721003446?src=jobsearchDesk&sid=1625987879005476&xp=7&px=1',\n",
       " 'https://www.naukri.com/job-listings-consultant-data-analyst-flipkart-internet-private-limited-bangalore-bengaluru-0-to-2-years-060721901131?src=jobsearchDesk&sid=1625987879005476&xp=8&px=1',\n",
       " 'https://www.naukri.com/job-listings-assistant-vice-president-mis-reporting-business-data-analyst-intertrustviteos-corporate-and-fund-services-pvt-ltd-mumbai-bangalore-bengaluru-10-to-15-years-080521002186?src=jobsearchDesk&sid=1625987879005476&xp=9&px=1',\n",
       " 'https://www.naukri.com/job-listings-data-analyst-flipkart-internet-private-limited-bangalore-bengaluru-3-to-5-years-090721901093?src=jobsearchDesk&sid=1625987879005476&xp=10&px=1',\n",
       " 'https://www.naukri.com/job-listings-data-analyst-uber-bangalore-bengaluru-1-to-3-years-090721501706?src=jobsearchDesk&sid=1625987879005476&xp=11&px=1',\n",
       " 'https://www.naukri.com/job-listings-business-data-analyst-mis-reporting-intertrust-group-mumbai-bangalore-bengaluru-3-to-8-years-270121001879?src=jobsearchDesk&sid=1625987879005476&xp=12&px=1',\n",
       " 'https://www.naukri.com/job-listings-data-analyst-infoservicesllc-hyderabad-secunderabad-chennai-bangalore-bengaluru-7-to-12-years-100721003600?src=jobsearchDesk&sid=1625987879005476&xp=13&px=1',\n",
       " 'https://www.naukri.com/job-listings-data-analyst-clarivate-analytics-bangalore-bengaluru-1-to-2-years-090721501325?src=jobsearchDesk&sid=1625987879005476&xp=14&px=1',\n",
       " 'https://www.naukri.com/job-listings-market-data-business-analyst-luxoft-bangalore-bengaluru-2-to-6-years-090721501248?src=jobsearchDesk&sid=1625987879005476&xp=15&px=1',\n",
       " 'https://www.naukri.com/job-listings-excel-vba-jobs-bangalore-vba-data-analyst-jobs-mind-circus-innovation-coimbatore-bangalore-bengaluru-trivandrum-thiruvananthapuram-0-to-2-years-080721000901?src=jobsearchDesk&sid=1625987879005476&xp=16&px=1',\n",
       " 'https://www.naukri.com/job-listings-software-developer-web-developer-data-analyst-edubridgeindia-hyderabad-secunderabad-bangalore-bengaluru-0-to-1-years-070721000205?src=jobsearchDesk&sid=1625987879005476&xp=17&px=1',\n",
       " 'https://www.naukri.com/job-listings-data-analyst-siemens-limited-bangalore-bengaluru-0-to-5-years-050721501272?src=jobsearchDesk&sid=1625987879005476&xp=18&px=1',\n",
       " 'https://www.naukri.com/job-listings-senior-data-analyst-liventus-inc-bangalore-bengaluru-5-to-8-years-240621007072?src=jobsearchDesk&sid=1625987879005476&xp=19&px=1',\n",
       " 'https://www.naukri.com/job-listings-data-analyst-financial-healthcare-sports-betting-quantsys-pune-chennai-bangalore-bengaluru-2-to-4-years-070721007042?src=jobsearchDesk&sid=1625987879005476&xp=20&px=1']"
      ]
     },
     "execution_count": 43,
     "metadata": {},
     "output_type": "execute_result"
    }
   ],
   "source": [
    "job_openings_urls = []\n",
    "urls = driver.find_elements_by_xpath('//a[@class=\"title fw500 ellipsis\"]')\n",
    "for i in urls:\n",
    " job_openings_urls.append(i.get_attribute('href'))\n",
    "job_openings_urls"
   ]
  },
  {
   "cell_type": "code",
   "execution_count": 44,
   "id": "e3f0e83c",
   "metadata": {},
   "outputs": [
    {
     "data": {
      "text/plain": [
       "['https://www.naukri.com/job-listings-data-scientist-data-analyst-business-analyst-inflexion-analytix-private-limited-hyderabad-secunderabad-chennai-bangalore-bengaluru-0-to-3-years-020721003625?src=jobsearchDesk&sid=1625987879005476&xp=1&px=1',\n",
       " 'https://www.naukri.com/job-listings-junior-data-analyst-simplilearn-solutions-private-limited-bangalore-bengaluru-0-to-2-years-090721607152?src=jobsearchDesk&sid=1625987879005476&xp=2&px=1',\n",
       " 'https://www.naukri.com/job-listings-junior-data-analyst-simplilearn-solutions-private-limited-bangalore-bengaluru-0-to-2-years-090721007150?src=jobsearchDesk&sid=1625987879005476&xp=3&px=1',\n",
       " 'https://www.naukri.com/job-listings-network-design-data-analyst-dell-international-services-india-private-limited-bangalore-bengaluru-0-to-2-years-050721905359?src=jobsearchDesk&sid=1625987879005476&xp=4&px=1',\n",
       " 'https://www.naukri.com/job-listings-market-data-analyst-gervitech-technologies-madurai-kolkata-hyderabad-secunderabad-ahmedabad-chennai-bangalore-bengaluru-0-to-5-years-100721004169?src=jobsearchDesk&sid=1625987879005476&xp=5&px=1',\n",
       " 'https://www.naukri.com/job-listings-data-analysts-ibm-india-pvt-limited-bangalore-bengaluru-5-to-10-years-090721905779?src=jobsearchDesk&sid=1625987879005476&xp=6&px=1',\n",
       " 'https://www.naukri.com/job-listings-data-analyst-carnation-infotech-private-limited-lucknow-bangalore-bengaluru-0-to-5-years-090721003446?src=jobsearchDesk&sid=1625987879005476&xp=7&px=1',\n",
       " 'https://www.naukri.com/job-listings-consultant-data-analyst-flipkart-internet-private-limited-bangalore-bengaluru-0-to-2-years-060721901131?src=jobsearchDesk&sid=1625987879005476&xp=8&px=1',\n",
       " 'https://www.naukri.com/job-listings-assistant-vice-president-mis-reporting-business-data-analyst-intertrustviteos-corporate-and-fund-services-pvt-ltd-mumbai-bangalore-bengaluru-10-to-15-years-080521002186?src=jobsearchDesk&sid=1625987879005476&xp=9&px=1',\n",
       " 'https://www.naukri.com/job-listings-data-analyst-flipkart-internet-private-limited-bangalore-bengaluru-3-to-5-years-090721901093?src=jobsearchDesk&sid=1625987879005476&xp=10&px=1',\n",
       " 'https://www.naukri.com/job-listings-data-analyst-uber-bangalore-bengaluru-1-to-3-years-090721501706?src=jobsearchDesk&sid=1625987879005476&xp=11&px=1',\n",
       " 'https://www.naukri.com/job-listings-business-data-analyst-mis-reporting-intertrust-group-mumbai-bangalore-bengaluru-3-to-8-years-270121001879?src=jobsearchDesk&sid=1625987879005476&xp=12&px=1',\n",
       " 'https://www.naukri.com/job-listings-data-analyst-infoservicesllc-hyderabad-secunderabad-chennai-bangalore-bengaluru-7-to-12-years-100721003600?src=jobsearchDesk&sid=1625987879005476&xp=13&px=1',\n",
       " 'https://www.naukri.com/job-listings-data-analyst-clarivate-analytics-bangalore-bengaluru-1-to-2-years-090721501325?src=jobsearchDesk&sid=1625987879005476&xp=14&px=1',\n",
       " 'https://www.naukri.com/job-listings-market-data-business-analyst-luxoft-bangalore-bengaluru-2-to-6-years-090721501248?src=jobsearchDesk&sid=1625987879005476&xp=15&px=1',\n",
       " 'https://www.naukri.com/job-listings-excel-vba-jobs-bangalore-vba-data-analyst-jobs-mind-circus-innovation-coimbatore-bangalore-bengaluru-trivandrum-thiruvananthapuram-0-to-2-years-080721000901?src=jobsearchDesk&sid=1625987879005476&xp=16&px=1',\n",
       " 'https://www.naukri.com/job-listings-software-developer-web-developer-data-analyst-edubridgeindia-hyderabad-secunderabad-bangalore-bengaluru-0-to-1-years-070721000205?src=jobsearchDesk&sid=1625987879005476&xp=17&px=1',\n",
       " 'https://www.naukri.com/job-listings-data-analyst-siemens-limited-bangalore-bengaluru-0-to-5-years-050721501272?src=jobsearchDesk&sid=1625987879005476&xp=18&px=1',\n",
       " 'https://www.naukri.com/job-listings-senior-data-analyst-liventus-inc-bangalore-bengaluru-5-to-8-years-240621007072?src=jobsearchDesk&sid=1625987879005476&xp=19&px=1',\n",
       " 'https://www.naukri.com/job-listings-data-analyst-financial-healthcare-sports-betting-quantsys-pune-chennai-bangalore-bengaluru-2-to-4-years-070721007042?src=jobsearchDesk&sid=1625987879005476&xp=20&px=1']"
      ]
     },
     "execution_count": 44,
     "metadata": {},
     "output_type": "execute_result"
    }
   ],
   "source": [
    "#scrap data from job openings\n",
    "job_opening_url = []\n",
    "\n",
    "url = driver.find_elements_by_xpath(\"//a[@class='title fw500 ellipsis']\")\n",
    "for i in url:\n",
    "    job_opening_url.append(i.get_attribute('href'))\n",
    "job_opening_url"
   ]
  },
  {
   "cell_type": "code",
   "execution_count": 45,
   "id": "a4438e11",
   "metadata": {
    "scrolled": true
   },
   "outputs": [],
   "source": [
    "#for i in driver.find_elements_by_xpath(\"//a[@class='title fw500 ellipsis']\")[:10]:\n",
    "    #i.click()"
   ]
  },
  {
   "cell_type": "code",
   "execution_count": 46,
   "id": "66416417",
   "metadata": {},
   "outputs": [
    {
     "data": {
      "text/plain": [
       "[\"Job Role: Data Scientist/Data Analyst /Business AnalystLocation: Chennai/Bangalore/HyderabadGreetings from CAIA - Center for Artificial Intelligence & Advanced Analytics43% of companies experienced a high deficit of skilled resources with Advanced Analytical skills and AI implementing capabilities in the year 2020. CAIA gives you a great opportunity to enter the world of future technologies and Innovations- Data Science, Analytics, AI, Data Visualization, and Cloud Computing.While 2020 was a year like no other, we are living in an interesting times where data is reshaping the world, and businesses are rapidly adopting technology to gain an edge over others. Hence, there's a substantial increase in demand for technology professionals who can implement systems in data science, machine learning, and AI in Tier 1 and Tier 2 organizations working closely with us.To help you build a sustainable career we would like you to utilize data, software and Analytical approaches in Data Science and AI to upskill and get recruited into an organization appreciating your skilling journey.Applications invited from all Freshers and experienced candidates (0-3 yrs) aspiring to make a career in Artificial Intelligence and Advanced Analytics and Data Science.If you wish to make a shift in your career or undergo a career transition, upskilling is essential since it allows you to learn more about the domain and acquire the required skills.Call to schedule interview Monday -Saturday from 10:00 am to 7 PmKoodesh B- +91 73395 11107Manigandan B - +91 93444 57360Email :careerguidance.koodes@centerforaia.commanigandan@centerforaia.comWhat is needed from you?Freshers who wish to start their career in Analytics and AI and professionals who wish toupskill or change their domain to analytics and emerging technologies are free to apply.Educational background in any one of the following- BE/B.Tech, ME/M Tech, MSc, BSc/MSc Math's and Statistics, B Com, BCA, BSc CS, BSC IT, MSC IT, MCASkills relating to Mathematics/Statistics.Natural passion towards numbers, business, coding, Analytics, and Artificial Intelligence, Machine Learning, visualizationGood verbal and written communication skillsAbility to understand domains in businesses across various sectorsSelection procedure includesAptitude Test & Communication Exam - Online / OfflineSQL/Python test - Online / OfflineCandidates who clear the above will have one-one discussions with our Career Guidance Manager for further evaluation and processing of your Resume.All the Shortlisted candidates will be eligible to continue the corporate training with CAIAWhat you can expect from us?You will get trained on the following modules for a period of 12-14 weeks:SQL & PLSQLData Wrangling using PythonData Visualization Using Power-BIStatistics for Machine LearningArtificial Intelligence, Data InterpretationSupervised & Unsupervised Learning,NLP & Deep LearningCloud Data LakeBusiness intelligence & Data VisualizationSimulation ProjectsExpected Outcome?At the end of the Training you are expected to be well versed with the following:Analysis of large and complex data sets from multiple sourcesDevelopment and evaluation of data analytics models, algorithms, and solutionsUnderstanding/implementation of ML algorithms, performance tuning, and reportingImplementation of algorithms to mine targeted data and the ability to convert data into a business storyTranslation of business requirements into technical requirements; Data extraction, preparation, and transformationIdentification, development, and implementation of statistical techniques and algorithms that address business challenges and adds value to the organizationRequirement Analysis and communication of findings in the form of a meaningful story with the stakeholdersFinding analytical solutions to abstract business issues.Apply objective analysis of facts before coming to a conclusionRoleData AnalystIndustry TypeIT Services & ConsultingFunctional AreaAnalytics & Business IntelligenceEmployment TypeFull Time, PermanentRole CategoryAnalytics & BIEducationUG :B.Sc in Any Specialization, B.Com in Any Specialization, BCA in Any Specialization, B.Tech/B.E. in Any Specialization, Any Graduate, B.B.A/ B.M.S in Any SpecializationKey SkillsBusiness IntelligencePower BiData WranglingArtificial IntelligenceBig DataITMachine LearningStatisticsAnalyticsDeep LearningBusiness AnalysisSQLData ScienceNLPCloud ComputingData AnalysisData VisualizationData WarehousingData AnalyticsETLPython\",\n",
       " 'Roles and ResponsibilitiesWork with internal teams like Customer Success Managers and Business Solution Architects to support reporting needs that are necessary for their governance call, client meetings internal review, and proposal buildingSupport other teams in the Product Innovation BU for data requirements from different sourcesResponsible to create and publish reports to the BU leadership at the predefined frequency (weekly/monthly/quarterly)Create a custom excel based reports to the customer-facing teams based on client requirementDesired Candidate ProfileStrong math and analysis skills are a mustProficient in Microsoft Excel and VBA: Functions, formulas, pivot tables, and dashboardsSQL working knowledge and ability to create Scripts on RequirementPresentation Skills: Adapted to work with PowerPoint and Google SlidesData Visualization skillsKnowledge of TableauRoleData AnalystIndustry TypeEducation / TrainingFunctional AreaAnalytics & Business IntelligenceEmployment TypeFull Time, PermanentRole CategoryAnalytics & BIEducationUG :Any GraduateKey SkillsExcelVBAData AnalysisData VisualizationAdvanced ExcelData ModelingTableauPython',\n",
       " 'Roles and ResponsibilitiesWork with internal teams like Customer Success Managers and Business Solution Architects to support reporting needs that are necessary for their governance call, client meetings internal review, and proposal buildingSupport other teams in the Product Innovation BU for data requirements from different sourcesResponsible to create and publish reports to the BU leadership at the predefined frequency (weekly/monthly/quarterly)Create a custom excel based reports to the customer-facing teams based on client requirementDesired Candidate ProfileStrong math and analysis skills are a mustProficient in Microsoft Excel and VBA: Functions, formulas, pivot tables, and dashboardsSQL working knowledge and ability to create Scripts on RequirementPresentation Skills: Adapted to work with PowerPoint and Google SlidesData Visualization skillsKnowledge of TableauRoleData AnalystIndustry TypeEducation / TrainingFunctional AreaAnalytics & Business IntelligenceEmployment TypeFull Time, PermanentRole CategoryAnalytics & BIEducationUG :Any GraduateKey SkillsExcelVBAData AnalysisData VisualizationAdvanced ExcelData ModelingTableauPython',\n",
       " 'You will:Develop framework and methods to define and solve logistics problems through quantitative analysis and analytical models, using operations research, statistics and optimization techniquesUse analytical models to validate proposals from World Wide Logistics procurement and extended fulfillment and logistics teamsEvaluate Key Performance Indicators and validate network performance against operational and spend metricsDevelop insightful dashboards and performance analysis highlighting network opportunities to improve cost, service, data quality or sustainability goalsEssential RequirementsGraduated (or about to) with a BSc in Industrial Engineering, System Engineering, Mathematics, Business Analytics (or similar) with strong internship experience in related field (e.g. Supply Chain, Technology, Data Science, Software Engineering)Experience designing and implementing optimization models in for inventory, networks and other characteristics of supply-chain systems (e.g. facility location, mode optimization)Experience with SQL and statistical tools (SAS, JMP)Expertise in one or more of the following: optimization, probability theory, queuing theory, simulation, stochastic models, forecasting and mathematical modelingFamiliarity with inventory planning concepts - forecasting, planning, optimization, and logisticsDesirable Requirements0 to 2 years of relevant work experienceStrength in the core competencies of organizational agility and ability to influence senior managementStrong skills in Project Management, Continuous Improvement Methods (Six Sigma) and Lean PrinciplesRoleData AnalystIndustry TypeIT Services & ConsultingFunctional AreaAnalytics & Business IntelligenceEmployment TypeFull Time, PermanentRole CategoryAnalytics & BIEducationUG :B.A in Maths, B.Sc in Maths, B.Tech/B.E. in Production/IndustrialPG :Any PostgraduateKey SkillsData ScienceProject ManagementMathematical ModelingArtificial IntelligenceData AnalysisProbabilityJmpData AnalyticsStatisticsSQL',\n",
       " 'Roles and Responsibilities\"Prepare Reports For Internal And External Audiences Using Business Analytics Reporting Tools. Create Data Dashboards, Graphs And Visualisations. Provide Sector And Competitor Benchmarking. Monitor And Audit Data Quality. \"Desired Candidate ProfileMarket Data AnalystRoleData AnalystIndustry TypeIT Services & ConsultingFunctional AreaAnalytics & Business IntelligenceEmployment TypeFull Time, PermanentRole CategoryAnalytics & BIEducationUG :Any GraduatePG :Any PostgraduateDoctorate :Doctorate Not RequiredKey SkillsMarket DataData Qualitymarket equity researchBusiness AnalyticsReport PreparationData AnalysisMarket Data AnalystCustomer serviceReporting Toolsmarket research analystAnalytics ReportingBusiness Analysis',\n",
       " \"Job SpecificationEmployment Type: Full-time RelevantExperience : 0-5 YearsQualification: B. Tech/M. Tech/BCA/MCAShift Timings:  Afternoon Shift (1:30 PM-10:30 PM IST)Shift timings are subject to change according to project requirement)Position Overview:You will be aligned with our Insights & Intelligence vertical and help us generate insights by leveraging different analytics tools and techniques to deliver value to our clients.You will be working as a part of the Predictive Analytics & Modeling team which encompasses a variety of statistical techniques from data mining, predictive modeling, and machine learning, that analyze current and historical facts to make predictions about future or otherwise unknown events.You will be primarily using Python/R/SAS Programming Language to help build multiple programming paradigms including procedural, object-oriented, and functional programming. You will have to write logical code for different projects and take a constructive and object-orientated approach.Desired Skill Set:Must-Have:       Develop predictive models using machine learning, natural language, and statistical analysis methods such as classification, time-series analysis, regression, statistical inference, and validation tools; perform exploratory data analyses, generate and test working hypotheses, prepare and analyze historical data, and identify patterns.       Knowledge of advanced analytics tools and languages to analyze large data sets from multiple data sources.       Knowledge in statistical techniques from data mining, predictive modeling, and machine learning, that analyze current and historical facts to make predictions about future or otherwise unknown events.       Experience conducting statistical analysis, business analytics, and/or related working with very large data sets for building predictive modeling.       Hands-on experience in analytical languages such as Python, R/SAS, etc.       Knowledge of analytical tools such as SPSS, SQL, and Tableau/PowerBI       Understanding of modeling approaches.Good to have skills:       Experience in the Healthcare industry, biopharma, healthcare data sets; understanding of big (patient claims) data.       Working knowledge of ML techniques (RF, SVM, NLP, graph databases, neural nets) preferred.       Familiarity with Tableau/Power BI or other data visualization tools.Traits       Must work well with others and works well in a large team.       Must be able to adhere to a project's standards and coding practices.       Experience delivering code under tight deadlines with shifting requirements.       Adaptable, Flexible, creative, and capable of working independently as well as a team player.       Should have a strong sense of urgency.       Solutions orientation; Quality driven; Execution minded.RoleData AnalystIndustry TypeIT Services & ConsultingFunctional AreaAnalytics & Business IntelligenceEmployment TypeFull Time, PermanentRole CategoryAnalytics & BIEducationUG :Any Graduate, BCA in Any Specialization, B.Tech/B.E. in Any SpecializationKey SkillsPower BiTableauSQLPredictive ModelingData AnalysisData MiningSAS ProgrammingSPSSMachine LearningPythonPredictive AnalyticsSkills highlighted with ‘‘ are preferred keyskills\",\n",
       " 'Job Description:Consultant - Data AnalystPrimary responsibility of the Data Analyst will be to build and maintain the dashboard platform/processes and to address to any data related needs of the organization. This role will work across functions with other groups in analytics as well as other departments in the company and will be expected to frequently work on data requests from various stakeholders.Expectations from the role:Create and maintain reporting tools and applications to support all strategic and tactical needs of the company Dashboard development and generation for daily, weekly, monthly and all reporting needs. Gather user requirements for new reports and enhance existing reports. Interpret needs and design reports to meet end user expectations. Data modeling, and creation of both logical and physical data models for effective and efficient reporting and TAT on frequent requests Design and develop complex data queries to move and transform data from operational data sources to analytical databases. Test all new reports/deliverables and periodically review them for quality control. Data validation and attention to detail is required as this role will be accountable for quality of all the numbers delivered through dashboards or otherwise. Work effectively as part of a team to achieve individual, team and organizational objectives, sharing knowledge and skills. Positively work and influence with team members to partner together to achieve individual, customers and business goalsRequired Technical Skills:Strong experience in building complex SQL queries Advanced Excel & Macros.Strong logical & analytical concepts in databases, schemas, dimensional modelling end-to endExperience in building complex MIS and dashboards especially in QlikviewProgramming languages like VB, JAVA, C will be good to haveExperience in QlikView and Hadoop is highly desirable but not mandatoryRequired Behavioral Skills:Should be a quick learner with ability to learn new tools/technology quickly Good analytical skills and ability to understand the business and be able to relate the same to data. Understanding of ecommerce/retail business (preferred but not mandatory) Should be result & detailed oriented and must have ability to multi task and work under pressure with minimum supervision in the fast paced ecommerce environment Proficient in Verbal and Written Communication skills, with demonstrated ability to communicate with all levels within the companyRoleData AnalystIndustry TypeInternetFunctional AreaAnalytics & Business IntelligenceEmployment TypeFull Time, PermanentRole CategoryAnalytics & BIEducationUG :Any GraduateKey SkillsData ValidationPower BiMISData AnalysisSQL QueriesAdvanced ExcelTableauDashboardsMacrosAnalytics',\n",
       " 'Business Title/Designation - Assistant Vice PresidentRoles and ResponsibilitiesParticipate in analyzing, troubleshooting, remediating, and resolving issues raised by usersStrong problem solving, troubleshooting and multitasking skillsTeam player with an eye for detailStrong logical & analytical thinking, verbal and written communication skillsWorks efficiently across distributed teams and should be comfortable working in Matrix Organization structureAptitude for learning new technologies and conceptsExcellent time management skills and ability to prioritizeManage several activities in parallelAbility to manage multiple priorities and meet tight deadlinesStrong analytical, verbal, and written communication skillsAble to translate customer and business needs to technical solutionsDevelop strong working relationships with the business and other technology team members to deliver high quality solutionsDesired Candidate Profile12+ years of experience in Data Analysis, Reporting or MISProficiency in MS SQL development (SSRS, SSIS, SSAS)Strong MS SQL Server experience with SQL Server 2016/2019 versions5+ years of Experience with a BI tool like PowerBI, Tableau, SpotfireProficient with Advanced Excel, VBA MacrosHands on experience in MS Access, Visio & SharePointAbility to create Database Schemas & ETLsProficiency in any other tool like Alteryx, Data Robot, Knime or Informatica will be a plusKnowledge of Azure database will be great but not mandateRoleHead/VP/GM - Analytics & BIIndustry TypeAccounting / AuditingFunctional AreaAnalytics & Business IntelligenceEmployment TypeFull Time, PermanentRole CategorySenior ManagementEducationUG :Any GraduatePG :Any PostgraduateKey SkillsData EngineeringSQL ServerData VisualizationData AutomationAutomationPower BiService IntegrationService TransitionData ManagementAlteryxSSRSDigital TransformationTableauSSISSSASData AnalysisSkills highlighted with ‘‘ are preferred keyskills',\n",
       " 'Skills Required :Excel, SQL, R, Python.RoleData AnalystIndustry TypeInternetFunctional AreaAnalytics & Business IntelligenceEmployment TypeFull Time, PermanentRole CategoryAnalytics & BIEducationUG :Any GraduatePG :Any PostgraduateKey SkillsRExcelData AnalysisSQLPython',\n",
       " 'About the RoleEngineering Security (EngSec) at Uber is tasked with the cyber-defense of Ubers businesses and assets, and is on a major growth path to deliver the best capabilities for our businesses while advancing the cybersecurity field.We are looking for a Data Analyst, to join the Analytics Reporting team, to develop processes and techniques for driving operational and business insight from the entire span of cybersecurity programs, operations, and projects. This is a great opportunity to join a fast growing EngSec organization in a growth company focused on big bets, and to make tremendous impact in driving metrics and data rigor in one of Techs most exciting cybersecurity arenas.What Youll DoAnalyze rich operational data exhaust to support operational success across teams, drive executive-level clarity, and deliver actionable operational and business insightsBuild and maintain data dashboards, supported by robust data hygiene and automated data collection/parsing processes Develop and promote a common internal body of knowledge (framework, lexicon, process) for evolving metrics development Work cross-functionally within EngSec and with partner organizations, to identify high-value problems / challenges addressable by data-analytic methods Create data visualizations for different audience levels (e.g., executive, operational)Basic Qualifications BS/BA or higher in quantitative fields e.g. statistics, math, computer science, operations research, engineering or related disciplines 1-3 years of experience as a data analyst in a tech company Experience in handling large scale unstructured data using Hadoop. Expertise in SQL, as well as ability to do more advanced data programming using Hive, Pig, Spark, etc Preferred QualificationsExperience with creating and maintaining dashboards on Tableau Knowledge in programming using basic modeling techniques, decision trees, Monte Carlo, logistic regression, SAS, Perl, R, Python Creative problem-solving and critical thinking skills with a get things done bias toward action Ability to operate collaboratively and efficiently in fluid, ambiguous environmentAbility to drive order from chaos and to tenaciously drive projects to completion Deeply passionate about user experience and able to make product / analysis recommendations that delight internal users Excellent written and verbal communication skills with the ability to influence senior stakeholders and peersAbout the RoleEngineering Security (EngSec) at Uber is tasked with the cyber-defense of Ubers businesses and assets, and is on a major growth path to deliver the best capabilities for our businesses while advancing the cybersecurity field.We are looking for a Data Analyst, to join the Analytics Reporting team, to develop processes and techniques for driving operational and business insight from the entire span of cybersecurity programs, operations, and projects. This is a great opportunity to join a fast growing EngSec organization in a growth company focused on big bets, and to make tremendous impact in driving metrics and data rigor in one of Techs most exciting cybersecurity arenas.What Youll Do Analyze rich operational data exhaust to support operational success across teams, drive executive-level clarity, and deliver actionable operational and business insights Build and maintain data dashboards, supported by robust data hygiene and automated data collection/parsing processes Develop and promote a common internal body of knowledge (framework, lexicon, process) for evolving metrics development Work cross-functionally within EngSec and with partner organizations, to identify high-value problems / challenges addressable by data-analytic methods Create data visualizations for different audience levels (e.g., executive, operational)Basic QualificationsBS/BA or higher in quantitative fields e.g. statistics, math, computer science, operations research, engineering or related disciplines 1-3 years of experience as a data analyst in a tech company Experience in handling large scale unstructured data using Hadoop. Expertise in SQL, as well as ability to do more advanced data programming using Hive, Pig, Spark, etcPreferred QualificationsExperience with creating and maintaining dashboards on Tableau Knowledge in programming using basic modeling techniques, decision trees, Monte Carlo, logistic regression, SAS, Perl, R, Python Creative problem-solving and critical thinking skills with a get things done bias toward action Ability to operate collaboratively and efficiently in fluid, ambiguous environment Ability to drive order from chaos and to tenaciously drive projects to completion Deeply passionate about user experience and able to make product / analysis recommendations that delight internal users Excellent written and verbal communication skills with the ability to influence senior stakeholders and peersRoleFresherIndustry TypeInternetFunctional AreaIT Software - OtherEmployment TypeFull Time, PermanentRole CategoryOtherEducationUG :Any GraduatePG :Post Graduation Not RequiredKey SkillsComputer scienceLogistic regressionanalytics reportingOperations researchSASData collectionPerlOperationsSQLPython',\n",
       " 'Business Title/Designation - Senior Associate / Assistant ManagerRoles and ResponsibilitiesParticipate in analyzing, troubleshooting, remediating, and resolving issues raised by usersStrong problem solving, troubleshooting and multitasking skillsTeam player with an eye for detailStrong logical & analytical thinking, verbal and written communication skillsWorks efficiently across distributed teams and should be comfortable working in Matrix Organization structureAptitude for learning new technologies and conceptsExcellent time management skills and ability to prioritizeManage several activities in parallelAbility to manage multiple priorities and meet tight deadlinesStrong analytical, verbal, and written communication skillsAble to translate customer and business needs to technical solutionsDevelop strong working relationships with the business and other technology team members to deliver high quality solutionsDesired Candidate Profile3-12 years of experience in Data Analysis, Reporting or MISProficiency in MS SQL development (SSRS, SSIS, SSAS)Strong MS SQL Server experience with SQL Server 2016/2019 versions5+ years of Experience with a BI tool like PowerBI, Tableau, SpotfireProficient with Advanced Excel, VBA MacrosHands on experience in MS Access, Visio & SharePointAbility to create Database Schemas & ETLsProficiency in any other tool like Alteryx, Data Robot, Knime or Informatica will be a plusKnowledge of Azure database will be great but not mandateRoleData AnalystIndustry TypeAccounting / AuditingFunctional AreaAnalytics & Business IntelligenceEmployment TypeFull Time, PermanentRole CategoryAnalytics & BIEducationUG :Any GraduatePG :Any PostgraduateKey SkillsSQL ServerTableauETLSpotfireData EngineeringPower BiMS VisioSSRSAlteryxData Transformation ServicesReportingSSISMIS ReportingCapital MarketHedge FundsMS SQL DevelopmentData RobotSSASMISData AnalysisData VisualizationVBA MacrosSkills highlighted with ‘‘ are preferred keyskills',\n",
       " 'Need to stay ahead of the competition on the newest tools that can be implemented to create efficiency. However, the skills required for managing the operations usually come through experience or by enrolling in specific development programs, which can help further the career in the set direction.The DailyHelp build and maintain data products such as but not limited to Subscriber, Product, Content, and Ads Analytics.Work closely with stakeholders to understand and document requirements both strategic and tactical in nature educate stakeholders by providing data and insights where needed.Conduct deep data analysis in large consumer data in order to understand and support stakeholder needs.Work closely within the data engineering sprint team to prioritize and build data products to meet the requirements, act as product lead when needed to educate engineers and clarify stakeholder requirements, support the team by conducting validation (UAT) when needed.Change how we think, act, and utilize our data by performing exploratory and quantitative analytics, data mining, and discovery.Work closely with data engineers and business stakeholders to make data easily accessible and understandable to them.Ensure data quality by using data quality frameworks in place.Be passionate about growing the team – participate in hiring analysts and interns.The EssentialsBachelor’s degree in computer science or similar discipline.5+ years of experience in Data Analytics engineering2+ years of experience in direct to consumer and/or digital marketing domain.Go above and beyond attitude.Ability to work in a fast-paced, high-pressure, agile environment.Ability and willingness to learn any new technologies and apply them at work in order to stay ahead of the curve.Expertise in at least a few scripting languages – Python, SQL, R, Scala, Presto,Expertise in analyzing large amounts of data using big data tools and frameworks such as Spark, Hadoop, Hive, Snowflake, Redshift or similar.Expertise in SQL, Spark SQL, Hive, etc.Expertise in OLAP databases such as Snowflake, Redshift. ETL, Hadoop,Experience with Analytics Tools such as Looker, Tableau, Power BI, RShiny, Redash, Google Analytics, D3.js, GIT is preferred.Cloud (AWS) experience is preferred - AWS, Google Cloud, S3, AWS LambdaMachine Learning experience is preferred.Ability to learn and teach new languages and frameworks.RoleData AnalystIndustry TypeIT Services & ConsultingFunctional AreaAnalytics & Business IntelligenceEmployment TypeFull Time, PermanentRole CategoryAnalytics & BIEducationPG :Any PostgraduateKey SkillsRPowerBiScalaSpark SQLData AnalysisTableauData AnalyticsAWSMachine LearningSQLPython',\n",
       " 'Commercial Strategy Pricing (CSP) team is at the forefront of developing advanced commercial policies and pricing models that enable our sales team to serve our customers with high level of transparency and consistency. It also plays an instrumental role in driving margins through price achievement and deal structuring by monitoring and benchmarking usage stats across products and customers.The team has a reputation for excellence, and their skills are in high demand from senior leaders in the business and commercial organization. Building on this success, CSP are expanding their capabilities in the market intelligence domain to consolidate data from different business systems to create a single customer view.This function is responsible for working with the commercial strategy team to develop pricing applications.This function also includes understanding the customer dynamics to build and maintain customer insights dashboardShe/he is responsible for liaising with sales and other stakeholders to manage systematic price increasePrepare reports and info-graphics for reporting to senior management on a regular basisCollaborate with various teams to gather required dataAnalyze data and prepare reports to measure performance of a product/business units and provide meaningful insights to drive decision makingProfile Sought:This role requires a business-credible individual who possesses a commercial mindset and a data-driven approach. The candidate should have a minimum of 1 year coding experience in data management, or in data warehousing or at least have experience working in structured data environments.Knowledge, Skills, and Qualifications:1-2 years experience in working in ETL 1-2 years experience with Relational Database Systems and SQLExperience in Python or R is preferred Good analytical, verbal, and written communication skills Education B.E. / B. TECH (Computer science preferred) Certification in SQL is mandatoryRoleSystem AnalystIndustry TypeAnalytics / KPO / ResearchFunctional AreaIT Software - Systems, EDP, MISEmployment TypeFull Time, PermanentRole CategoryProgramming & DesignEducationUG :B.Tech/B.E. in ComputersPG :Post Graduation Not RequiredKey SkillsGraphicsComputer scienceData managementCodingAnalyticalIntellectual propertyMarket intelligenceData AnalystMonitoringSQL',\n",
       " 'Project DescriptionWeve been engaged by a large European Bank to provide resources to their Market Migration program.Joining this program you will have the benefit of working with an established client team, fully involved in the project initiation through to project implementation.ResponsibilitiesThis role is for a Market Data Business Analyst with a major focus on managing all business requirements relating to Global Banking Markets for the provision of market data as part of a wider Market Data team. The team works closely with a number of business units to provide an efficient, timely and cost effective solution to meet market data needs and requirements.You will be required to gather business requirements and ensure that the solution designed meets the clients functional and non-functional requirements.SkillsMust have-2 years minimum experience in Market Data-Strong understanding of the Capital Markets-Must have exposure to systems like:- Bloomberg, Reuters, Eikon, Factset, Dealer Broker Feeds, etc.-Extensive knowledge and experience of Market data tools such as:- MDSL, MDM, RPM and DACS-Must have strong understanding of reference data:- e.g., Bloomberg Bulk Data License, Reuters Datascope-Exposure to Curves Curve assignments for any trading application-Familiarity with data content application functionality from major market data vendors-Good knowledge of the international Equity and Fixed Income marketplace-Strong communication and interpersonal skillsNice to have-Knowledge of reference data contracts would be beneficial-Python and SQL programming skills-Experience with using visualization software (Tableau, Qlikview or equivalent)-Experience of publishing and modelling data with distributed storage platforms such as-Hadoop or data ingestion into Snowflake-Proficiency in Microsoft Excel-Should have general accounting knowledgeLanguagesEnglish: B2 Upper IntermediateRoleBusiness AnalystIndustry TypeIT Services & ConsultingFunctional AreaIT Software - Application Programming, MaintenanceEmployment TypeFull Time, PermanentRole CategorySystem Design/Implementation/ERP/CRMEducationUG :B.Tech/B.E. in ComputersPG :Post Graduation Not RequiredKey SkillsPublishingExcelBloombergFixed incomemarket dataQlikViewMurexRPMSQLPython',\n",
       " 'We are looking for freshers and experienced both for Excel/ SQL Data Analyst Jobs Bangalore - Work from HomeJob Description for Excel/ SQL Data Analyst Job-Must have excel knowledge, V lookup, H Lookup, overall formulas in excel,Must have advanced excel knowledge, making of APIs, MS Word, MISBasic SQL knowledge and able to write SQL queriesTo write VBA functionsCreate macrosGenerate data reportsCompare excel filesData sortingConditional formattingWe are looking for candidates ready to work from home and they need to have their own laptop/desktop along with internet connectivityRoleFresherIndustry TypeAnimation & VFXFunctional AreaIT Software - DBA, DatawarehousingEmployment TypeFull Time, PermanentRole CategoryOtherEducationUG :Any GraduateKey SkillsExcelVBASQLWordMISVLOOKUPData AnalysisAdvanced ExcelAPIMacrosHLOOKUPSkills highlighted with ‘‘ are preferred keyskills',\n",
       " 'Roles and ResponsibilitiesYou will need to see through the data and analyze it to find conclusions.Gather and analyze web site and financial performance data to prepare regular reports for the statistics team.Support mission-critical and business-critical systems using mature IT and software engineering practices.Desired Candidate ProfileAdvanced skills in design of easy-to-use reporting interfaces and interactive dashboards in Spotfire and Excel Education, Experience, Skills.Strong interpersonal skills with the ability to work with a variety of individuals, both internal and external at a variety of. levels in the organization.Demonstrated ability to positively influence and develop consensus with teams not in a direct report alignment.Good oral and written communication skills.Job Benefits & PerksRoleSoftware DeveloperIndustry TypeIT Services & ConsultingFunctional AreaIT Software - Application Programming, MaintenanceEmployment TypeFull Time, PermanentRole CategoryProgramming & DesignEducationUG :B.Tech/B.E. in Electronics/Telecommunication, Computers, Electrical, B.Com in Any Specialization, B.Sc in Computers, BCA in Any SpecializationKey SkillsSpotfireSoftware DevelopmentExcelWritten CommunicationSoftware EngineeringWeb TechnologiesData AnalysisDashboardsWeb DevelopmentStatistics',\n",
       " 'Are you looking at developing future leadersCome join us at Siemens. At our Bengaluru Hub nearly 1100 employees provide various types of services - Finance, HR, IT, Supply Chain, Customer Care - to more than 60 Siemens entities across the world, We are global business solutions, that supports Siemens companies worldwide to achieve perfection in their internal process allowing our colleagues to fully focus on their business.Change the future with us Research, analyze, consolidate and interpret data using statistical and data analytics methods to build information on business-relevant topics, e.g. market environment, operational process order management, RPA bot performance! Perform data analysis and research within SAP systems and interpret data to strategically support business needs. Assemble large, complex data sets that meet functional / non-functional business requirements. Identify, design, and implement internal process improvements: automating manual processes, optimizing data delivery, re-designing infrastructure for greater scalability, etc. Creates dashboards and communicate results to various internal and/or external partners (e.g. management, customers) We don t need superheroes, just super minds Minimum 3-5 years of hand on Advanced working SQL knowledge and experience working with relational databases, query authoring (SQL) as well as working familiarity with a variety of databases. Good understanding of Tableau architecture, design, development and end user experience Good Strong academic background including a bachelor s degree in IT or business-related course of study Build processes supporting data transformation, data structures, metadata, dependency and workload management. We ve got quite a lot to offer. How about youThis role is based in Bangalore. But you ll also get to visit other locations in India and globe, so you ll need to go where this journey takes you. In return, you ll get the chance to work with teams impacting entire cities, countries and the shape of things to come.RoleAssistant Manager/Manager-(NonTechnical)Industry TypeElectronic Components / SemiconductorsFunctional AreaITES, BPO, KPO, LPO, Customer Service, OperationsEmployment TypeFull Time, PermanentRole CategoryBack Office/Web/Transaction ProcessingEducationUG :Any GraduatePG :Post Graduation Not RequiredKey SkillsOrder managementSupply chainBusiness servicesData analysismetadataSAPData structuresBusiness solutionsOperationsSQL',\n",
       " \"We are looking to fill several positions for a passionate certified Data Analysts. We have departments in Sports Betting, Healthcare, Financial Trading, Sales and Anomaly Detection. Based on your expertise you will be placed on one of these teams or get to be a part of multiple. The successful candidate will turn data into information, information into insight and insight into business decisions.This is a unique opportunity for experienced professionals to be a part of a great cross-functional team. You play a pivotal roll working with Data Engineers and Data Scientists to achieve the company's goals and success.Responsibilities:Interpret data, analyze results using statistical techniques and write ongoing reportsDevelop and implement databases, data collection systems, data analytics and other strategies that optimize statistically, efficiency and qualityAcquire data from multiple data sources and maintain databases and data systemsIdentify, analyze, and interpret trends or patterns in complex data setsWork with management to prioritize business and information needsLocate and define new process improvement opportunitiesFor Sports Data Analysts: (Any Analyst Can learn)2+ years of technical work and experience in any kind of data.Interest and experience in data management. Good understanding of and experience in general data flow and data management concepts.Technical/System experience with any types of datasets.Unique opportunity to work with Sports Betting data. Analyze statistics, player movements, etc.For Healthcare Data Analysts:2+ years of technical work and experience in healthcare and clinical development.Interest and experience in clinical data management. Good understanding of and experience in clinical data flow and data management concepts.Technical/System experience with clinical datasets.For Financial Data Analysts:2+ years of technical work in financial dataInterest and/or experience in financial trading data management.Technical experience with financial trading data.Conduct comparable analysis and market research to support internal financial analysisMaintain up-to-date technical knowledge of financial instruments, market conditions, and trendsRequirements:Proven working experience as a data analyst or business data analystTechnical expertise regarding data models, database design development, and data miningKnowledge of statistics and experience using Excel, etc. for analyzing datasetsStrong analytical skills with the ability to collect, organize, analyze, and large amounts of information with attention to detail and accuracyAdept at queries, writing report and presenting findingsRoleData AnalystIndustry TypeIT Services & ConsultingFunctional AreaAnalytics & Business IntelligenceEmployment TypeFull Time, PermanentRole CategoryAnalytics & BIEducationUG :Any GraduateKey SkillsAnomaly DetectionExcelSalesFinanceData AnalysisData CollectionClinical Data ManagementClinical DevelopmentData AnalyticsMarket ResearchSports\"]"
      ]
     },
     "execution_count": 46,
     "metadata": {},
     "output_type": "execute_result"
    }
   ],
   "source": [
    "Job_Description1 = []\n",
    "for i in job_opening_url:\n",
    "    driver.get(i)\n",
    "    desc1 = driver.find_elements_by_xpath('//section[@class=\"job-desc\"]')\n",
    "    for j in desc1:\n",
    "            Job_Description1.append(j.text.replace('\\n','').replace('Job description',''))\n",
    "Job_Description1"
   ]
  },
  {
   "cell_type": "code",
   "execution_count": 47,
   "id": "483f52ba",
   "metadata": {},
   "outputs": [
    {
     "data": {
      "text/html": [
       "<div>\n",
       "<style scoped>\n",
       "    .dataframe tbody tr th:only-of-type {\n",
       "        vertical-align: middle;\n",
       "    }\n",
       "\n",
       "    .dataframe tbody tr th {\n",
       "        vertical-align: top;\n",
       "    }\n",
       "\n",
       "    .dataframe thead th {\n",
       "        text-align: right;\n",
       "    }\n",
       "</style>\n",
       "<table border=\"1\" class=\"dataframe\">\n",
       "  <thead>\n",
       "    <tr style=\"text-align: right;\">\n",
       "      <th></th>\n",
       "      <th>JOB TITLE</th>\n",
       "      <th>COMPANY NAME</th>\n",
       "      <th>EXPERIENCE</th>\n",
       "      <th>SALARY</th>\n",
       "      <th>DESCRIPTION</th>\n",
       "    </tr>\n",
       "  </thead>\n",
       "  <tbody>\n",
       "    <tr>\n",
       "      <th>0</th>\n",
       "      <td>Data Scientist / Data Analyst -Business Analyst</td>\n",
       "      <td>Inflexion Analytix Private Limited</td>\n",
       "      <td>0-3 Yrs</td>\n",
       "      <td>3,50,000 - 4,50,000 PA.</td>\n",
       "      <td>Job Role: Data Scientist/Data Analyst /Busines...</td>\n",
       "    </tr>\n",
       "    <tr>\n",
       "      <th>1</th>\n",
       "      <td>Junior Data Analyst</td>\n",
       "      <td>Simplilearn</td>\n",
       "      <td>0-2 Yrs</td>\n",
       "      <td>3,50,000 - 5,00,000 PA.</td>\n",
       "      <td>Roles and ResponsibilitiesWork with internal t...</td>\n",
       "    </tr>\n",
       "    <tr>\n",
       "      <th>2</th>\n",
       "      <td>Junior Data Analyst</td>\n",
       "      <td>Simplilearn</td>\n",
       "      <td>0-2 Yrs</td>\n",
       "      <td>3,50,000 - 5,00,000 PA.</td>\n",
       "      <td>Roles and ResponsibilitiesWork with internal t...</td>\n",
       "    </tr>\n",
       "    <tr>\n",
       "      <th>3</th>\n",
       "      <td>Network Design &amp; Data Analyst</td>\n",
       "      <td>Dell International Services India Private Limited</td>\n",
       "      <td>0-2 Yrs</td>\n",
       "      <td>Not disclosed</td>\n",
       "      <td>You will:Develop framework and methods to defi...</td>\n",
       "    </tr>\n",
       "    <tr>\n",
       "      <th>4</th>\n",
       "      <td>Market Data Analyst</td>\n",
       "      <td>Gervitech Technologies</td>\n",
       "      <td>0-5 Yrs</td>\n",
       "      <td>3,25,000 - 6,00,000 PA.</td>\n",
       "      <td>Roles and Responsibilities\"Prepare Reports For...</td>\n",
       "    </tr>\n",
       "    <tr>\n",
       "      <th>5</th>\n",
       "      <td>Data analysts</td>\n",
       "      <td>IBM India Pvt. Limited</td>\n",
       "      <td>5-10 Yrs</td>\n",
       "      <td>Not disclosed</td>\n",
       "      <td>Job SpecificationEmployment Type: Full-time Re...</td>\n",
       "    </tr>\n",
       "    <tr>\n",
       "      <th>6</th>\n",
       "      <td>Data Analyst</td>\n",
       "      <td>CARNATION INFOTECH PRIVATE LIMITED</td>\n",
       "      <td>0-5 Yrs</td>\n",
       "      <td>Not disclosed</td>\n",
       "      <td>Job Description:Consultant - Data AnalystPrima...</td>\n",
       "    </tr>\n",
       "    <tr>\n",
       "      <th>7</th>\n",
       "      <td>Consultant - Data Analyst</td>\n",
       "      <td>Flipkart Internet Private Limited</td>\n",
       "      <td>0-2 Yrs</td>\n",
       "      <td>Not disclosed</td>\n",
       "      <td>Business Title/Designation - Assistant Vice Pr...</td>\n",
       "    </tr>\n",
       "    <tr>\n",
       "      <th>8</th>\n",
       "      <td>Assistant Vice President - MIS &amp; Reporting ( B...</td>\n",
       "      <td>INTERTRUSTVITEOS CORPORATE AND FUND SERVICES P...</td>\n",
       "      <td>10-15 Yrs</td>\n",
       "      <td>Not disclosed</td>\n",
       "      <td>Skills Required :Excel, SQL, R, Python.RoleDat...</td>\n",
       "    </tr>\n",
       "    <tr>\n",
       "      <th>9</th>\n",
       "      <td>Data Analyst</td>\n",
       "      <td>Flipkart Internet Private Limited</td>\n",
       "      <td>3-5 Yrs</td>\n",
       "      <td>Not disclosed</td>\n",
       "      <td>About the RoleEngineering Security (EngSec) at...</td>\n",
       "    </tr>\n",
       "  </tbody>\n",
       "</table>\n",
       "</div>"
      ],
      "text/plain": [
       "                                           JOB TITLE  \\\n",
       "0    Data Scientist / Data Analyst -Business Analyst   \n",
       "1                                Junior Data Analyst   \n",
       "2                                Junior Data Analyst   \n",
       "3                      Network Design & Data Analyst   \n",
       "4                                Market Data Analyst   \n",
       "5                                      Data analysts   \n",
       "6                                       Data Analyst   \n",
       "7                          Consultant - Data Analyst   \n",
       "8  Assistant Vice President - MIS & Reporting ( B...   \n",
       "9                                       Data Analyst   \n",
       "\n",
       "                                        COMPANY NAME EXPERIENCE  \\\n",
       "0                 Inflexion Analytix Private Limited    0-3 Yrs   \n",
       "1                                        Simplilearn    0-2 Yrs   \n",
       "2                                        Simplilearn    0-2 Yrs   \n",
       "3  Dell International Services India Private Limited    0-2 Yrs   \n",
       "4                             Gervitech Technologies    0-5 Yrs   \n",
       "5                             IBM India Pvt. Limited   5-10 Yrs   \n",
       "6                 CARNATION INFOTECH PRIVATE LIMITED    0-5 Yrs   \n",
       "7                  Flipkart Internet Private Limited    0-2 Yrs   \n",
       "8  INTERTRUSTVITEOS CORPORATE AND FUND SERVICES P...  10-15 Yrs   \n",
       "9                  Flipkart Internet Private Limited    3-5 Yrs   \n",
       "\n",
       "                    SALARY                                        DESCRIPTION  \n",
       "0  3,50,000 - 4,50,000 PA.  Job Role: Data Scientist/Data Analyst /Busines...  \n",
       "1  3,50,000 - 5,00,000 PA.  Roles and ResponsibilitiesWork with internal t...  \n",
       "2  3,50,000 - 5,00,000 PA.  Roles and ResponsibilitiesWork with internal t...  \n",
       "3            Not disclosed  You will:Develop framework and methods to defi...  \n",
       "4  3,25,000 - 6,00,000 PA.  Roles and Responsibilities\"Prepare Reports For...  \n",
       "5            Not disclosed  Job SpecificationEmployment Type: Full-time Re...  \n",
       "6            Not disclosed  Job Description:Consultant - Data AnalystPrima...  \n",
       "7            Not disclosed  Business Title/Designation - Assistant Vice Pr...  \n",
       "8            Not disclosed  Skills Required :Excel, SQL, R, Python.RoleDat...  \n",
       "9            Not disclosed  About the RoleEngineering Security (EngSec) at...  "
      ]
     },
     "execution_count": 47,
     "metadata": {},
     "output_type": "execute_result"
    }
   ],
   "source": [
    "df = pd.DataFrame({})\n",
    "df['JOB TITLE'] = job_titles[:10]\n",
    "df['COMPANY NAME'] = comp_name[:10]\n",
    "df['EXPERIENCE'] = expn[:10]\n",
    "df['SALARY'] = salary[:10]\n",
    "df['DESCRIPTION'] = Job_Description1[:10]\n",
    "\n",
    "\n",
    "\n",
    "df"
   ]
  },
  {
   "cell_type": "markdown",
   "id": "ba56a88b",
   "metadata": {},
   "source": [
    "# Q3: In this question you have to scrape data using the filters available:"
   ]
  },
  {
   "cell_type": "code",
   "execution_count": 49,
   "id": "06688f5c",
   "metadata": {},
   "outputs": [],
   "source": [
    "#connect to web driver\n",
    "driver = webdriver.Chrome(r\"D:\\Download\\chromedriver.exe\")"
   ]
  },
  {
   "cell_type": "code",
   "execution_count": 50,
   "id": "ac7d6827",
   "metadata": {},
   "outputs": [],
   "source": [
    "url_filter = 'https://www.naukri.com/'\n",
    "driver.get(url_filter)"
   ]
  },
  {
   "cell_type": "code",
   "execution_count": 51,
   "id": "390b7fb8",
   "metadata": {},
   "outputs": [],
   "source": [
    "search_job = driver.find_element_by_id(\"qsb-keyword-sugg\")\n",
    "search_job.send_keys('Data Analyst')"
   ]
  },
  {
   "cell_type": "code",
   "execution_count": 52,
   "id": "2ede4cdb",
   "metadata": {},
   "outputs": [],
   "source": [
    "#click by using x path function\n",
    "search_btn = driver.find_element_by_xpath(\"//button[@class='btn']\")\n",
    "search_btn.click()"
   ]
  },
  {
   "cell_type": "code",
   "execution_count": 54,
   "id": "712dd0b6",
   "metadata": {},
   "outputs": [],
   "source": [
    "filter_location = driver.find_element_by_xpath(\"/html/body/div[1]/div[3]/div[2]/section[1]/div[2]/div[3]/div[2]/div[3]/label/i\")\n",
    "filter_location.click()"
   ]
  },
  {
   "cell_type": "code",
   "execution_count": 55,
   "id": "2f8a397d",
   "metadata": {},
   "outputs": [],
   "source": [
    "filter_sal = driver.find_element_by_xpath(\"/html/body/div[1]/div[3]/div[2]/section[1]/div[2]/div[4]/div[2]/div[2]/label/i\")\n",
    "filter_sal.click()"
   ]
  },
  {
   "cell_type": "code",
   "execution_count": 56,
   "id": "5a874ca4",
   "metadata": {},
   "outputs": [
    {
     "data": {
      "text/plain": [
       "['Data Scientist/Data Analyst /Business Analyst',\n",
       " 'Senior Associate/Executive - Energy Markets, Data Analyst',\n",
       " 'Senior Associate/Executive - Energy Markets, Data Analyst',\n",
       " 'Data Analyst / Business Analytics / MIS Executive - Fresher Jobs- MNC',\n",
       " 'Business & Data Analyst',\n",
       " 'Business & Data Analyst',\n",
       " 'Data Analyst- O2C (FMCG/CPG industry Preferred)- Night Shift',\n",
       " 'Only Fresher / Data Scientist / Data Analyst / Analytics - MNC Jobs',\n",
       " 'Hiring Data Analyst(Power BI experience is must)',\n",
       " 'Opportunity For the position of Data Analyst',\n",
       " 'Business Analytics / Data Analyst / Fresher Analyst - Job - MNC',\n",
       " 'Data Analyst',\n",
       " 'Data Analyst',\n",
       " 'Data Analyst',\n",
       " 'Data Analyst',\n",
       " 'Data Analyst',\n",
       " 'Data Analyst - Mechanical',\n",
       " 'Senior Associate - Data Analyst',\n",
       " 'Data Analyst For a leading IT-Software firm',\n",
       " 'Data Analyst']"
      ]
     },
     "execution_count": 56,
     "metadata": {},
     "output_type": "execute_result"
    }
   ],
   "source": [
    "job_titles = []\n",
    "job_title = driver.find_elements_by_xpath(\"//a[@class='title fw500 ellipsis']\")\n",
    "\n",
    "for i in job_title:\n",
    "    job_titles.append(i.text)\n",
    "        \n",
    "job_titles"
   ]
  },
  {
   "cell_type": "code",
   "execution_count": 57,
   "id": "109612a3",
   "metadata": {},
   "outputs": [
    {
     "data": {
      "text/plain": [
       "['Pune, Delhi / NCR, Mumbai (All Areas)',\n",
       " 'Gurgaon/Gurugram',\n",
       " 'Gurgaon/Gurugram',\n",
       " 'Noida, Greater Noida, Delhi / NCR',\n",
       " 'Gurgaon/Gurugram',\n",
       " 'Gurgaon/Gurugram',\n",
       " 'Noida',\n",
       " 'Noida, Greater Noida, Delhi / NCR',\n",
       " 'Noida, Gurgaon/Gurugram',\n",
       " 'Gurgaon/Gurugram',\n",
       " 'Noida, Gurgaon/Gurugram, Delhi / NCR',\n",
       " 'New Delhi, Pune, Gurgaon/Gurugram, Delhi / NCR',\n",
       " 'Gurgaon/Gurugram',\n",
       " 'Delhi / NCR',\n",
       " 'Noida(Sector-126 Noida)',\n",
       " 'Gurgaon/Gurugram',\n",
       " 'Gurgaon/Gurugram, Jaipur, Delhi / NCR',\n",
       " 'Gurgaon/Gurugram',\n",
       " 'Noida, Ghaziabad, Faridabad, Gurgaon/Gurugram, Greater Noida, Delhi / NCR',\n",
       " 'Hyderabad/Secunderabad, Pune, Gurgaon/Gurugram, Chennai, Bangalore/Bengaluru']"
      ]
     },
     "execution_count": 57,
     "metadata": {},
     "output_type": "execute_result"
    }
   ],
   "source": [
    "job_locations = []\n",
    "job_loc = driver.find_elements_by_xpath(\"//li[@class='fleft grey-text br2 placeHolderLi location']\")\n",
    "\n",
    "for i in job_loc:\n",
    "    job_locations.append(i.text)\n",
    "    \n",
    "job_locations"
   ]
  },
  {
   "cell_type": "code",
   "execution_count": 58,
   "id": "a049ad47",
   "metadata": {},
   "outputs": [
    {
     "data": {
      "text/plain": [
       "['Inflexion Analytix Private Limited',\n",
       " 'Allegis Services India Pvt. Ltd.',\n",
       " 'Allegis Services India Pvt. Ltd.',\n",
       " 'GABA Consultancy services',\n",
       " 'RBS Services India Private Limited',\n",
       " 'NatWest Group',\n",
       " 'GENPACT India Private Limited',\n",
       " 'GABA Consultancy services',\n",
       " 'NIIT Ltd.',\n",
       " 'Ampersand Group',\n",
       " 'GABA Consultancy services',\n",
       " 'COLLABERA',\n",
       " 'MDB General Referrals',\n",
       " 'Stanza Living',\n",
       " 'Investors Clinic Infratech Pvt ltd',\n",
       " 'RENEW POWER VENTURES PRIVATE LIMITED',\n",
       " 'H.G. Infra Engineering Limited',\n",
       " 'Publicis Groupe',\n",
       " 'MYFUTUREAPP',\n",
       " 'Omnicom Media Group India Private Limited']"
      ]
     },
     "execution_count": 58,
     "metadata": {},
     "output_type": "execute_result"
    }
   ],
   "source": [
    "com_names = []\n",
    "com_name = driver.find_elements_by_xpath(\"//a[@class='subTitle ellipsis fleft']\")\n",
    "\n",
    "\n",
    "for i in com_name:\n",
    "    com_names.append(i.text)\n",
    "com_names"
   ]
  },
  {
   "cell_type": "code",
   "execution_count": 59,
   "id": "94f164ab",
   "metadata": {},
   "outputs": [
    {
     "data": {
      "text/plain": [
       "['0-3 Yrs',\n",
       " '2-6 Yrs',\n",
       " '2-6 Yrs',\n",
       " '0-5 Yrs',\n",
       " '2-5 Yrs',\n",
       " '2-4 Yrs',\n",
       " '1-2 Yrs',\n",
       " '0-0 Yrs',\n",
       " '3-8 Yrs',\n",
       " '4-8 Yrs',\n",
       " '0-5 Yrs',\n",
       " '1-3 Yrs',\n",
       " '2-6 Yrs',\n",
       " '2-5 Yrs',\n",
       " '2-5 Yrs',\n",
       " '1-4 Yrs',\n",
       " '3-7 Yrs',\n",
       " '1-3 Yrs',\n",
       " '1-2 Yrs',\n",
       " '3-5 Yrs']"
      ]
     },
     "execution_count": 59,
     "metadata": {},
     "output_type": "execute_result"
    }
   ],
   "source": [
    "expe = []\n",
    "exp_req = driver.find_elements_by_xpath(\"//li[@class='fleft grey-text br2 placeHolderLi experience']\")\n",
    "\n",
    "\n",
    "for i in exp_req:\n",
    "    expe.append(i.text)\n",
    "expe"
   ]
  },
  {
   "cell_type": "code",
   "execution_count": 60,
   "id": "931e5b54",
   "metadata": {},
   "outputs": [
    {
     "data": {
      "text/html": [
       "<div>\n",
       "<style scoped>\n",
       "    .dataframe tbody tr th:only-of-type {\n",
       "        vertical-align: middle;\n",
       "    }\n",
       "\n",
       "    .dataframe tbody tr th {\n",
       "        vertical-align: top;\n",
       "    }\n",
       "\n",
       "    .dataframe thead th {\n",
       "        text-align: right;\n",
       "    }\n",
       "</style>\n",
       "<table border=\"1\" class=\"dataframe\">\n",
       "  <thead>\n",
       "    <tr style=\"text-align: right;\">\n",
       "      <th></th>\n",
       "      <th>JOB TITLE</th>\n",
       "      <th>JOB LOCATION</th>\n",
       "      <th>COMPANY NAME</th>\n",
       "      <th>EXPERIENCE</th>\n",
       "    </tr>\n",
       "  </thead>\n",
       "  <tbody>\n",
       "    <tr>\n",
       "      <th>0</th>\n",
       "      <td>Data Scientist/Data Analyst /Business Analyst</td>\n",
       "      <td>Pune, Delhi / NCR, Mumbai (All Areas)</td>\n",
       "      <td>Inflexion Analytix Private Limited</td>\n",
       "      <td>0-3 Yrs</td>\n",
       "    </tr>\n",
       "    <tr>\n",
       "      <th>1</th>\n",
       "      <td>Senior Associate/Executive - Energy Markets, D...</td>\n",
       "      <td>Gurgaon/Gurugram</td>\n",
       "      <td>Allegis Services India Pvt. Ltd.</td>\n",
       "      <td>2-6 Yrs</td>\n",
       "    </tr>\n",
       "    <tr>\n",
       "      <th>2</th>\n",
       "      <td>Senior Associate/Executive - Energy Markets, D...</td>\n",
       "      <td>Gurgaon/Gurugram</td>\n",
       "      <td>Allegis Services India Pvt. Ltd.</td>\n",
       "      <td>2-6 Yrs</td>\n",
       "    </tr>\n",
       "    <tr>\n",
       "      <th>3</th>\n",
       "      <td>Data Analyst / Business Analytics / MIS Execut...</td>\n",
       "      <td>Noida, Greater Noida, Delhi / NCR</td>\n",
       "      <td>GABA Consultancy services</td>\n",
       "      <td>0-5 Yrs</td>\n",
       "    </tr>\n",
       "    <tr>\n",
       "      <th>4</th>\n",
       "      <td>Business &amp; Data Analyst</td>\n",
       "      <td>Gurgaon/Gurugram</td>\n",
       "      <td>RBS Services India Private Limited</td>\n",
       "      <td>2-5 Yrs</td>\n",
       "    </tr>\n",
       "    <tr>\n",
       "      <th>5</th>\n",
       "      <td>Business &amp; Data Analyst</td>\n",
       "      <td>Gurgaon/Gurugram</td>\n",
       "      <td>NatWest Group</td>\n",
       "      <td>2-4 Yrs</td>\n",
       "    </tr>\n",
       "    <tr>\n",
       "      <th>6</th>\n",
       "      <td>Data Analyst- O2C (FMCG/CPG industry Preferred...</td>\n",
       "      <td>Noida</td>\n",
       "      <td>GENPACT India Private Limited</td>\n",
       "      <td>1-2 Yrs</td>\n",
       "    </tr>\n",
       "    <tr>\n",
       "      <th>7</th>\n",
       "      <td>Only Fresher / Data Scientist / Data Analyst /...</td>\n",
       "      <td>Noida, Greater Noida, Delhi / NCR</td>\n",
       "      <td>GABA Consultancy services</td>\n",
       "      <td>0-0 Yrs</td>\n",
       "    </tr>\n",
       "    <tr>\n",
       "      <th>8</th>\n",
       "      <td>Hiring Data Analyst(Power BI experience is must)</td>\n",
       "      <td>Noida, Gurgaon/Gurugram</td>\n",
       "      <td>NIIT Ltd.</td>\n",
       "      <td>3-8 Yrs</td>\n",
       "    </tr>\n",
       "    <tr>\n",
       "      <th>9</th>\n",
       "      <td>Opportunity For the position of Data Analyst</td>\n",
       "      <td>Gurgaon/Gurugram</td>\n",
       "      <td>Ampersand Group</td>\n",
       "      <td>4-8 Yrs</td>\n",
       "    </tr>\n",
       "  </tbody>\n",
       "</table>\n",
       "</div>"
      ],
      "text/plain": [
       "                                           JOB TITLE  \\\n",
       "0      Data Scientist/Data Analyst /Business Analyst   \n",
       "1  Senior Associate/Executive - Energy Markets, D...   \n",
       "2  Senior Associate/Executive - Energy Markets, D...   \n",
       "3  Data Analyst / Business Analytics / MIS Execut...   \n",
       "4                            Business & Data Analyst   \n",
       "5                            Business & Data Analyst   \n",
       "6  Data Analyst- O2C (FMCG/CPG industry Preferred...   \n",
       "7  Only Fresher / Data Scientist / Data Analyst /...   \n",
       "8   Hiring Data Analyst(Power BI experience is must)   \n",
       "9       Opportunity For the position of Data Analyst   \n",
       "\n",
       "                            JOB LOCATION                        COMPANY NAME  \\\n",
       "0  Pune, Delhi / NCR, Mumbai (All Areas)  Inflexion Analytix Private Limited   \n",
       "1                       Gurgaon/Gurugram    Allegis Services India Pvt. Ltd.   \n",
       "2                       Gurgaon/Gurugram    Allegis Services India Pvt. Ltd.   \n",
       "3      Noida, Greater Noida, Delhi / NCR           GABA Consultancy services   \n",
       "4                       Gurgaon/Gurugram  RBS Services India Private Limited   \n",
       "5                       Gurgaon/Gurugram                       NatWest Group   \n",
       "6                                  Noida       GENPACT India Private Limited   \n",
       "7      Noida, Greater Noida, Delhi / NCR           GABA Consultancy services   \n",
       "8                Noida, Gurgaon/Gurugram                           NIIT Ltd.   \n",
       "9                       Gurgaon/Gurugram                     Ampersand Group   \n",
       "\n",
       "  EXPERIENCE  \n",
       "0    0-3 Yrs  \n",
       "1    2-6 Yrs  \n",
       "2    2-6 Yrs  \n",
       "3    0-5 Yrs  \n",
       "4    2-5 Yrs  \n",
       "5    2-4 Yrs  \n",
       "6    1-2 Yrs  \n",
       "7    0-0 Yrs  \n",
       "8    3-8 Yrs  \n",
       "9    4-8 Yrs  "
      ]
     },
     "execution_count": 60,
     "metadata": {},
     "output_type": "execute_result"
    }
   ],
   "source": [
    "df = pd.DataFrame({})\n",
    "df['JOB TITLE'] = job_titles\n",
    "df['JOB LOCATION'] = job_locations\n",
    "df['COMPANY NAME'] = com_names\n",
    "df['EXPERIENCE'] = expe\n",
    "\n",
    "df.head(10)"
   ]
  },
  {
   "cell_type": "markdown",
   "id": "8274345c",
   "metadata": {},
   "source": [
    "# Q4: Write a python program to scrape data for first 10 job results for Data scientist Designation in Noida location. You have to scrape company_name, No. of days ago when job was posted, Rating of the company."
   ]
  },
  {
   "cell_type": "code",
   "execution_count": 61,
   "id": "ff06126b",
   "metadata": {},
   "outputs": [],
   "source": [
    "#connect to web driver\n",
    "driver = webdriver.Chrome(r\"D:\\Download\\chromedriver.exe\")"
   ]
  },
  {
   "cell_type": "code",
   "execution_count": 62,
   "id": "9af7a108",
   "metadata": {},
   "outputs": [],
   "source": [
    "url2 = 'https://www.glassdoor.co.in'\n",
    "driver.get(url2)"
   ]
  },
  {
   "cell_type": "code",
   "execution_count": 64,
   "id": "5f5f8b07",
   "metadata": {},
   "outputs": [],
   "source": [
    "time.sleep(5)\n",
    "sign_in = driver.find_element_by_xpath('//button[@class=\"d-none d-lg-block p-0 LockedHomeHeaderStyles__signInButton\"]')\n",
    "sign_in.click()"
   ]
  },
  {
   "cell_type": "code",
   "execution_count": 69,
   "id": "b19a5735",
   "metadata": {},
   "outputs": [],
   "source": [
    "time.sleep(5)\n",
    "email = driver.find_element_by_id('userEmail')\n",
    "email.send_keys('abdulwashif26@gmail.com')"
   ]
  },
  {
   "cell_type": "code",
   "execution_count": 70,
   "id": "a3cd7242",
   "metadata": {},
   "outputs": [],
   "source": [
    "time.sleep(3)\n",
    "signin_pswd = driver.find_element_by_id('userPassword')\n",
    "signin_pswd.send_keys('waShif26')"
   ]
  },
  {
   "cell_type": "code",
   "execution_count": 71,
   "id": "e04708c3",
   "metadata": {},
   "outputs": [],
   "source": [
    "signing_in = driver.find_element_by_xpath('//button[@class=\"gd-ui-button minWidthBtn css-8i7bc2\"]')\n",
    "signing_in.click()"
   ]
  },
  {
   "cell_type": "code",
   "execution_count": 72,
   "id": "62e38fed",
   "metadata": {},
   "outputs": [],
   "source": [
    "search_job = driver.find_element_by_id(\"sc.keyword\")\n",
    "search_job.send_keys('Data Scientist')"
   ]
  },
  {
   "cell_type": "code",
   "execution_count": 73,
   "id": "16bf1c87",
   "metadata": {},
   "outputs": [],
   "source": [
    "search_loc = driver.find_element_by_id(\"sc.location\")\n",
    "search_loc.send_keys('Noida')"
   ]
  },
  {
   "cell_type": "code",
   "execution_count": 74,
   "id": "0e9a95cb",
   "metadata": {},
   "outputs": [],
   "source": [
    "#click by using x path function\n",
    "search_btn = driver.find_element_by_xpath(\"//button[@class='gd-ui-button ml-std col-auto SearchStyles__newSearchButton css-iixdfr']\")\n",
    "search_btn.click()"
   ]
  },
  {
   "cell_type": "code",
   "execution_count": 75,
   "id": "31634e8b",
   "metadata": {},
   "outputs": [
    {
     "data": {
      "text/plain": [
       "['Data Scientist 1',\n",
       " 'Data Scientist-1',\n",
       " 'DATA ENGINEER H/F - CDI',\n",
       " 'Data Scientist',\n",
       " 'Data Scientist',\n",
       " 'Data Analyst',\n",
       " 'Data Scientist',\n",
       " 'Data Scientist',\n",
       " 'Data Scientist',\n",
       " 'Data Scientist',\n",
       " 'Data Scientist',\n",
       " 'Data Scientist',\n",
       " 'Data Scientist',\n",
       " 'Data Scientist',\n",
       " 'Data Scientist',\n",
       " 'Data Scientist',\n",
       " 'Data Scientist',\n",
       " 'Data Scientist',\n",
       " 'Data Scientist',\n",
       " 'Data Scientist',\n",
       " 'Data Scientist',\n",
       " 'Data Scientist',\n",
       " 'Data Scientist',\n",
       " 'junior data scientist',\n",
       " 'Data Scientist',\n",
       " 'Data Scientist',\n",
       " 'Data Scientist',\n",
       " 'Data Scientist',\n",
       " 'Data Scientist',\n",
       " 'Senior Data Scientist',\n",
       " 'Associate Machine Learning Engineer',\n",
       " 'Data Scientist']"
      ]
     },
     "execution_count": 75,
     "metadata": {},
     "output_type": "execute_result"
    }
   ],
   "source": [
    "job_titles = []\n",
    "job_title = driver.find_elements_by_xpath(\"//a[@class='jobLink css-1rd3saf eigr9kq2']\")\n",
    "\n",
    "for i in job_title:\n",
    "    job_titles.append(i.text)\n",
    "        \n",
    "job_titles"
   ]
  },
  {
   "cell_type": "code",
   "execution_count": 76,
   "id": "faf8b054",
   "metadata": {},
   "outputs": [
    {
     "data": {
      "text/plain": [
       "['PayPal',\n",
       " 'PayPal',\n",
       " 'BCA Expertise',\n",
       " '',\n",
       " 'PayPal',\n",
       " 'FE Fundinfo',\n",
       " 'Applied Materials Inc.',\n",
       " 'Dassault Systèmes',\n",
       " 'Aspire Systems',\n",
       " 'HP',\n",
       " 'Standard Chartered',\n",
       " 'VM3 Tech Solutions',\n",
       " 'Springer Nature',\n",
       " 'MobiKwik',\n",
       " 'Kline & Company',\n",
       " 'AlphaSense',\n",
       " 'Siemens Technology and Services Private Limited',\n",
       " 'Cervello Inc',\n",
       " 'Novo',\n",
       " 'ECS',\n",
       " 'KPIT Technologies',\n",
       " 'NatWest Group',\n",
       " 'Proziod Analytics',\n",
       " 'Randstad',\n",
       " 'Thomson Reuters',\n",
       " 'RoundSqr',\n",
       " 'Microsoft',\n",
       " 'GE Appliances',\n",
       " 'Fidelity Investments',\n",
       " 'Colgate-Palmolive',\n",
       " 'Salesforce',\n",
       " 'Multirecruit']"
      ]
     },
     "execution_count": 76,
     "metadata": {},
     "output_type": "execute_result"
    }
   ],
   "source": [
    "com_names = []\n",
    "com_name = driver.find_elements_by_xpath(\"//a[@class=' css-l2wjgv e1n63ojh0 jobLink']\")\n",
    "\n",
    "\n",
    "for i in com_name:\n",
    "    com_names.append(i.text)\n",
    "com_names"
   ]
  },
  {
   "cell_type": "code",
   "execution_count": 77,
   "id": "e69fcf94",
   "metadata": {},
   "outputs": [
    {
     "data": {
      "text/plain": [
       "['Bangalore',\n",
       " 'Chennai',\n",
       " 'Na-Duar',\n",
       " 'India',\n",
       " 'Chennai',\n",
       " 'Chennai',\n",
       " 'Bangalore',\n",
       " 'Pune',\n",
       " 'Chennai',\n",
       " 'Bangalore',\n",
       " 'Chennai',\n",
       " 'Pune',\n",
       " 'Pune',\n",
       " 'Gurgaon',\n",
       " 'Hyderābād',\n",
       " 'Pune',\n",
       " 'Gurgaon',\n",
       " 'Bangalore',\n",
       " 'Gurgaon',\n",
       " 'Chennai',\n",
       " 'Pune',\n",
       " 'New Delhi',\n",
       " 'Bangalore',\n",
       " 'Bangalore',\n",
       " 'Ahmedabad',\n",
       " 'Hyderābād',\n",
       " 'Hyderābād',\n",
       " 'Hyderābād',\n",
       " 'Bangalore',\n",
       " 'Mumbai',\n",
       " 'Mumbai',\n",
       " 'Bangalore']"
      ]
     },
     "execution_count": 77,
     "metadata": {},
     "output_type": "execute_result"
    }
   ],
   "source": [
    "job_locations = []\n",
    "job_loc = driver.find_elements_by_xpath(\"//span[@class='pr-xxsm css-1ndif2q e1rrn5ka0']\")\n",
    "\n",
    "for i in job_loc:\n",
    "    job_locations.append(i.text)\n",
    "    \n",
    "job_locations"
   ]
  },
  {
   "cell_type": "code",
   "execution_count": 78,
   "id": "72e8c990",
   "metadata": {},
   "outputs": [
    {
     "data": {
      "text/html": [
       "<div>\n",
       "<style scoped>\n",
       "    .dataframe tbody tr th:only-of-type {\n",
       "        vertical-align: middle;\n",
       "    }\n",
       "\n",
       "    .dataframe tbody tr th {\n",
       "        vertical-align: top;\n",
       "    }\n",
       "\n",
       "    .dataframe thead th {\n",
       "        text-align: right;\n",
       "    }\n",
       "</style>\n",
       "<table border=\"1\" class=\"dataframe\">\n",
       "  <thead>\n",
       "    <tr style=\"text-align: right;\">\n",
       "      <th></th>\n",
       "      <th>JOB TITLE</th>\n",
       "      <th>JOB LOCATION</th>\n",
       "      <th>COMPANY NAME</th>\n",
       "    </tr>\n",
       "  </thead>\n",
       "  <tbody>\n",
       "    <tr>\n",
       "      <th>0</th>\n",
       "      <td>Data Scientist 1</td>\n",
       "      <td>Bangalore</td>\n",
       "      <td>PayPal</td>\n",
       "    </tr>\n",
       "    <tr>\n",
       "      <th>1</th>\n",
       "      <td>Data Scientist-1</td>\n",
       "      <td>Chennai</td>\n",
       "      <td>PayPal</td>\n",
       "    </tr>\n",
       "    <tr>\n",
       "      <th>2</th>\n",
       "      <td>DATA ENGINEER H/F - CDI</td>\n",
       "      <td>Na-Duar</td>\n",
       "      <td>BCA Expertise</td>\n",
       "    </tr>\n",
       "    <tr>\n",
       "      <th>3</th>\n",
       "      <td>Data Scientist</td>\n",
       "      <td>India</td>\n",
       "      <td></td>\n",
       "    </tr>\n",
       "    <tr>\n",
       "      <th>4</th>\n",
       "      <td>Data Scientist</td>\n",
       "      <td>Chennai</td>\n",
       "      <td>PayPal</td>\n",
       "    </tr>\n",
       "    <tr>\n",
       "      <th>5</th>\n",
       "      <td>Data Analyst</td>\n",
       "      <td>Chennai</td>\n",
       "      <td>FE Fundinfo</td>\n",
       "    </tr>\n",
       "    <tr>\n",
       "      <th>6</th>\n",
       "      <td>Data Scientist</td>\n",
       "      <td>Bangalore</td>\n",
       "      <td>Applied Materials Inc.</td>\n",
       "    </tr>\n",
       "    <tr>\n",
       "      <th>7</th>\n",
       "      <td>Data Scientist</td>\n",
       "      <td>Pune</td>\n",
       "      <td>Dassault Systèmes</td>\n",
       "    </tr>\n",
       "    <tr>\n",
       "      <th>8</th>\n",
       "      <td>Data Scientist</td>\n",
       "      <td>Chennai</td>\n",
       "      <td>Aspire Systems</td>\n",
       "    </tr>\n",
       "    <tr>\n",
       "      <th>9</th>\n",
       "      <td>Data Scientist</td>\n",
       "      <td>Bangalore</td>\n",
       "      <td>HP</td>\n",
       "    </tr>\n",
       "  </tbody>\n",
       "</table>\n",
       "</div>"
      ],
      "text/plain": [
       "                 JOB TITLE JOB LOCATION            COMPANY NAME\n",
       "0         Data Scientist 1    Bangalore                  PayPal\n",
       "1         Data Scientist-1      Chennai                  PayPal\n",
       "2  DATA ENGINEER H/F - CDI      Na-Duar           BCA Expertise\n",
       "3           Data Scientist        India                        \n",
       "4           Data Scientist      Chennai                  PayPal\n",
       "5             Data Analyst      Chennai             FE Fundinfo\n",
       "6           Data Scientist    Bangalore  Applied Materials Inc.\n",
       "7           Data Scientist         Pune       Dassault Systèmes\n",
       "8           Data Scientist      Chennai          Aspire Systems\n",
       "9           Data Scientist    Bangalore                      HP"
      ]
     },
     "execution_count": 78,
     "metadata": {},
     "output_type": "execute_result"
    }
   ],
   "source": [
    "df = pd.DataFrame({})\n",
    "df['JOB TITLE'] = job_titles\n",
    "df['JOB LOCATION'] = job_locations\n",
    "df['COMPANY NAME'] = com_names\n",
    "\n",
    "\n",
    "df.head(10)"
   ]
  },
  {
   "cell_type": "markdown",
   "id": "32702897",
   "metadata": {},
   "source": [
    "# Q5: Write a python program to scrape the salary data for Data Scientist designation in Noida location."
   ]
  },
  {
   "cell_type": "code",
   "execution_count": 79,
   "id": "7b2d1b39",
   "metadata": {},
   "outputs": [],
   "source": [
    "#connect to web driver\n",
    "driver = webdriver.Chrome(r\"D:\\Download\\chromedriver.exe\")"
   ]
  },
  {
   "cell_type": "code",
   "execution_count": 80,
   "id": "c6430981",
   "metadata": {},
   "outputs": [],
   "source": [
    "url3 = 'https://www.glassdoor.co.in/Salaries/index.htm'\n",
    "driver.get(url3)"
   ]
  },
  {
   "cell_type": "code",
   "execution_count": 81,
   "id": "f28400c4",
   "metadata": {},
   "outputs": [],
   "source": [
    "time.sleep(5)\n",
    "sign_in = driver.find_element_by_xpath('//button[@class=\"d-none d-lg-block p-0 LockedHomeHeaderStyles__signInButton\"]')\n",
    "sign_in.click()"
   ]
  },
  {
   "cell_type": "code",
   "execution_count": 84,
   "id": "177f6911",
   "metadata": {},
   "outputs": [],
   "source": [
    "time.sleep(5)\n",
    "email = driver.find_element_by_id('userEmail')\n",
    "email.send_keys('abdulwashif26@gmail.com')"
   ]
  },
  {
   "cell_type": "code",
   "execution_count": 82,
   "id": "9640973e",
   "metadata": {},
   "outputs": [],
   "source": [
    "time.sleep(3)\n",
    "signin_pswd = driver.find_element_by_id('userPassword')\n",
    "signin_pswd.send_keys('waShif26')"
   ]
  },
  {
   "cell_type": "code",
   "execution_count": 85,
   "id": "987ede4b",
   "metadata": {},
   "outputs": [],
   "source": [
    "signing_in = driver.find_element_by_xpath('//button[@class=\"gd-ui-button minWidthBtn css-8i7bc2\"]')\n",
    "signing_in.click()"
   ]
  },
  {
   "cell_type": "code",
   "execution_count": 98,
   "id": "d2d504b0",
   "metadata": {},
   "outputs": [],
   "source": [
    "search_job = driver.find_element_by_id(\"KeywordSearch\")\n",
    "search_job.send_keys('Data Scientist')"
   ]
  },
  {
   "cell_type": "code",
   "execution_count": 99,
   "id": "d099b04a",
   "metadata": {},
   "outputs": [],
   "source": [
    "clear = driver.find_element_by_id(\"LocationSearch\")\n",
    "clear.send_keys(Keys.CONTROL,'a')\n"
   ]
  },
  {
   "cell_type": "code",
   "execution_count": 100,
   "id": "b6ee14b5",
   "metadata": {},
   "outputs": [],
   "source": [
    "cut = driver.find_element_by_id(\"LocationSearch\")\n",
    "cut.send_keys(Keys.CONTROL,'x')"
   ]
  },
  {
   "cell_type": "code",
   "execution_count": 101,
   "id": "0574e607",
   "metadata": {},
   "outputs": [],
   "source": [
    "search_loc = driver.find_element_by_id(\"LocationSearch\")\n",
    "search_loc.send_keys('Noida')"
   ]
  },
  {
   "cell_type": "code",
   "execution_count": 102,
   "id": "c58fab51",
   "metadata": {},
   "outputs": [],
   "source": [
    "\n",
    "search_btn = driver.find_element_by_xpath(\"//button[@class='gd-btn-mkt']\")\n",
    "search_btn.click()"
   ]
  },
  {
   "cell_type": "code",
   "execution_count": 126,
   "id": "53a9e95a",
   "metadata": {},
   "outputs": [
    {
     "data": {
      "text/plain": [
       "['IBM',\n",
       " 'Tata Consultancy Services',\n",
       " 'Accenture',\n",
       " 'Delhivery',\n",
       " 'Ericsson-Worldwide',\n",
       " 'UnitedHealth Group',\n",
       " 'Valiance Solutions',\n",
       " 'EXL Service',\n",
       " 'Optum Global Solutions',\n",
       " 'ZS Associates']"
      ]
     },
     "execution_count": 126,
     "metadata": {},
     "output_type": "execute_result"
    }
   ],
   "source": [
    "time.sleep(4)\n",
    "com_titles = []\n",
    "company = driver.find_elements_by_xpath(\"//a[@class='css-f3vw95 e1aj7ssy3']\")\n",
    "\n",
    "for i in company[:10]:\n",
    "    com_titles.append(i.text)\n",
    "        \n",
    "com_titles"
   ]
  },
  {
   "cell_type": "code",
   "execution_count": 124,
   "id": "7434d42f",
   "metadata": {},
   "outputs": [
    {
     "data": {
      "text/plain": [
       "['₹4L',\n",
       " 'Low',\n",
       " '₹10L',\n",
       " 'Average',\n",
       " '₹20L',\n",
       " 'High',\n",
       " 'New Delhi',\n",
       " 'New Delhi',\n",
       " 'New Delhi',\n",
       " 'New Delhi']"
      ]
     },
     "execution_count": 124,
     "metadata": {},
     "output_type": "execute_result"
    }
   ],
   "source": [
    "time.sleep(4)\n",
    "min_sal = []\n",
    "sal = driver.find_elements_by_xpath(\"//p[@class='m-0 css-1vkj9it']\")\n",
    "\n",
    "for i in sal[:10]:\n",
    "    min_sal.append(i.text)\n",
    "        \n",
    "min_sal"
   ]
  },
  {
   "cell_type": "code",
   "execution_count": 127,
   "id": "5ce96e44",
   "metadata": {},
   "outputs": [
    {
     "data": {
      "text/plain": [
       "['₹4L',\n",
       " 'Low',\n",
       " '₹10L',\n",
       " 'Average',\n",
       " '₹20L',\n",
       " 'High',\n",
       " 'New Delhi',\n",
       " 'New Delhi',\n",
       " 'New Delhi',\n",
       " 'New Delhi']"
      ]
     },
     "execution_count": 127,
     "metadata": {},
     "output_type": "execute_result"
    }
   ],
   "source": [
    "time.sleep(4)\n",
    "max_sal = []\n",
    "sal_1 = driver.find_elements_by_xpath(\"//p[@class='m-0 css-1vkj9it']\")\n",
    "\n",
    "for i in sal[:10]:\n",
    "    max_sal.append(i.text)\n",
    "        \n",
    "max_sal"
   ]
  },
  {
   "cell_type": "code",
   "execution_count": 128,
   "id": "7700d3f2",
   "metadata": {
    "scrolled": true
   },
   "outputs": [
    {
     "data": {
      "text/plain": [
       "['₹4L',\n",
       " 'Low',\n",
       " '₹10L',\n",
       " 'Average',\n",
       " '₹20L',\n",
       " 'High',\n",
       " 'New Delhi',\n",
       " 'New Delhi',\n",
       " 'New Delhi',\n",
       " 'New Delhi']"
      ]
     },
     "execution_count": 128,
     "metadata": {},
     "output_type": "execute_result"
    }
   ],
   "source": [
    "time.sleep(4)\n",
    "avg_sal = []\n",
    "sal_2 = driver.find_elements_by_xpath(\"//div[@class='col-12 col-lg-4 px-lg-0 d-flex align-items-baseline']\")\n",
    "\n",
    "for i in sal[:10]:\n",
    "    avg_sal.append(i.text)\n",
    "        \n",
    "avg_sal"
   ]
  },
  {
   "cell_type": "code",
   "execution_count": 130,
   "id": "af2bff0c",
   "metadata": {},
   "outputs": [
    {
     "data": {
      "text/plain": [
       "10"
      ]
     },
     "execution_count": 130,
     "metadata": {},
     "output_type": "execute_result"
    }
   ],
   "source": [
    "len(com_titles)"
   ]
  },
  {
   "cell_type": "code",
   "execution_count": 125,
   "id": "bed4cde5",
   "metadata": {},
   "outputs": [
    {
     "data": {
      "text/plain": [
       "10"
      ]
     },
     "execution_count": 125,
     "metadata": {},
     "output_type": "execute_result"
    }
   ],
   "source": [
    "len(min_sal)"
   ]
  },
  {
   "cell_type": "code",
   "execution_count": null,
   "id": "e9fd2b88",
   "metadata": {},
   "outputs": [],
   "source": []
  },
  {
   "cell_type": "code",
   "execution_count": 129,
   "id": "4115326c",
   "metadata": {
    "scrolled": true
   },
   "outputs": [
    {
     "data": {
      "text/html": [
       "<div>\n",
       "<style scoped>\n",
       "    .dataframe tbody tr th:only-of-type {\n",
       "        vertical-align: middle;\n",
       "    }\n",
       "\n",
       "    .dataframe tbody tr th {\n",
       "        vertical-align: top;\n",
       "    }\n",
       "\n",
       "    .dataframe thead th {\n",
       "        text-align: right;\n",
       "    }\n",
       "</style>\n",
       "<table border=\"1\" class=\"dataframe\">\n",
       "  <thead>\n",
       "    <tr style=\"text-align: right;\">\n",
       "      <th></th>\n",
       "      <th>Company Name</th>\n",
       "      <th>MIN Salary</th>\n",
       "      <th>Max Salary</th>\n",
       "      <th>Avg Salary</th>\n",
       "    </tr>\n",
       "  </thead>\n",
       "  <tbody>\n",
       "    <tr>\n",
       "      <th>0</th>\n",
       "      <td>IBM</td>\n",
       "      <td>₹4L</td>\n",
       "      <td>₹4L</td>\n",
       "      <td>₹4L</td>\n",
       "    </tr>\n",
       "    <tr>\n",
       "      <th>1</th>\n",
       "      <td>Tata Consultancy Services</td>\n",
       "      <td>Low</td>\n",
       "      <td>Low</td>\n",
       "      <td>Low</td>\n",
       "    </tr>\n",
       "    <tr>\n",
       "      <th>2</th>\n",
       "      <td>Accenture</td>\n",
       "      <td>₹10L</td>\n",
       "      <td>₹10L</td>\n",
       "      <td>₹10L</td>\n",
       "    </tr>\n",
       "    <tr>\n",
       "      <th>3</th>\n",
       "      <td>Delhivery</td>\n",
       "      <td>Average</td>\n",
       "      <td>Average</td>\n",
       "      <td>Average</td>\n",
       "    </tr>\n",
       "    <tr>\n",
       "      <th>4</th>\n",
       "      <td>Ericsson-Worldwide</td>\n",
       "      <td>₹20L</td>\n",
       "      <td>₹20L</td>\n",
       "      <td>₹20L</td>\n",
       "    </tr>\n",
       "    <tr>\n",
       "      <th>5</th>\n",
       "      <td>UnitedHealth Group</td>\n",
       "      <td>High</td>\n",
       "      <td>High</td>\n",
       "      <td>High</td>\n",
       "    </tr>\n",
       "    <tr>\n",
       "      <th>6</th>\n",
       "      <td>Valiance Solutions</td>\n",
       "      <td>New Delhi</td>\n",
       "      <td>New Delhi</td>\n",
       "      <td>New Delhi</td>\n",
       "    </tr>\n",
       "    <tr>\n",
       "      <th>7</th>\n",
       "      <td>EXL Service</td>\n",
       "      <td>New Delhi</td>\n",
       "      <td>New Delhi</td>\n",
       "      <td>New Delhi</td>\n",
       "    </tr>\n",
       "    <tr>\n",
       "      <th>8</th>\n",
       "      <td>Optum Global Solutions</td>\n",
       "      <td>New Delhi</td>\n",
       "      <td>New Delhi</td>\n",
       "      <td>New Delhi</td>\n",
       "    </tr>\n",
       "    <tr>\n",
       "      <th>9</th>\n",
       "      <td>ZS Associates</td>\n",
       "      <td>New Delhi</td>\n",
       "      <td>New Delhi</td>\n",
       "      <td>New Delhi</td>\n",
       "    </tr>\n",
       "  </tbody>\n",
       "</table>\n",
       "</div>"
      ],
      "text/plain": [
       "                Company Name MIN Salary Max Salary Avg Salary\n",
       "0                        IBM        ₹4L        ₹4L        ₹4L\n",
       "1  Tata Consultancy Services        Low        Low        Low\n",
       "2                  Accenture       ₹10L       ₹10L       ₹10L\n",
       "3                  Delhivery    Average    Average    Average\n",
       "4         Ericsson-Worldwide       ₹20L       ₹20L       ₹20L\n",
       "5         UnitedHealth Group       High       High       High\n",
       "6         Valiance Solutions  New Delhi  New Delhi  New Delhi\n",
       "7                EXL Service  New Delhi  New Delhi  New Delhi\n",
       "8     Optum Global Solutions  New Delhi  New Delhi  New Delhi\n",
       "9              ZS Associates  New Delhi  New Delhi  New Delhi"
      ]
     },
     "execution_count": 129,
     "metadata": {},
     "output_type": "execute_result"
    }
   ],
   "source": [
    "df = pd.DataFrame({})\n",
    "df['Company Name'] = com_titles\n",
    "df['MIN Salary'] = min_sal\n",
    "df['Max Salary'] = max_sal\n",
    "df['Avg Salary'] = avg_sal\n",
    "\n",
    "df.head(10)"
   ]
  },
  {
   "cell_type": "markdown",
   "id": "59a9de8f",
   "metadata": {},
   "source": [
    "Q6 : Scrape data of first 100 sunglasses listings on flipkart.com. You have to scrape four attributes"
   ]
  },
  {
   "cell_type": "code",
   "execution_count": 138,
   "id": "1a33e680",
   "metadata": {},
   "outputs": [
    {
     "data": {
      "text/html": [
       "<div>\n",
       "<style scoped>\n",
       "    .dataframe tbody tr th:only-of-type {\n",
       "        vertical-align: middle;\n",
       "    }\n",
       "\n",
       "    .dataframe tbody tr th {\n",
       "        vertical-align: top;\n",
       "    }\n",
       "\n",
       "    .dataframe thead th {\n",
       "        text-align: right;\n",
       "    }\n",
       "</style>\n",
       "<table border=\"1\" class=\"dataframe\">\n",
       "  <thead>\n",
       "    <tr style=\"text-align: right;\">\n",
       "      <th></th>\n",
       "      <th>brand</th>\n",
       "      <th>price</th>\n",
       "      <th>discount</th>\n",
       "      <th>description</th>\n",
       "    </tr>\n",
       "  </thead>\n",
       "  <tbody>\n",
       "    <tr>\n",
       "      <th>0</th>\n",
       "      <td>Wrogn</td>\n",
       "      <td>₹663</td>\n",
       "      <td>73% off</td>\n",
       "      <td>Mirrored Wayfarer Sunglasses (51)  (For Men &amp; ...</td>\n",
       "    </tr>\n",
       "    <tr>\n",
       "      <th>1</th>\n",
       "      <td>ROYAL SON</td>\n",
       "      <td>₹375</td>\n",
       "      <td>74% off</td>\n",
       "      <td>Mirrored Aviator Sunglasses (55)  (For Men, Bl...</td>\n",
       "    </tr>\n",
       "    <tr>\n",
       "      <th>2</th>\n",
       "      <td>kingsunglasses</td>\n",
       "      <td>₹299</td>\n",
       "      <td>88% off</td>\n",
       "      <td>Mirrored, UV Protection Wayfarer Sunglasses (F...</td>\n",
       "    </tr>\n",
       "    <tr>\n",
       "      <th>3</th>\n",
       "      <td>Fastrack</td>\n",
       "      <td>₹513</td>\n",
       "      <td>35% off</td>\n",
       "      <td>UV Protection Rectangular Sunglasses (Free Siz...</td>\n",
       "    </tr>\n",
       "    <tr>\n",
       "      <th>4</th>\n",
       "      <td>Fastrack</td>\n",
       "      <td>₹758</td>\n",
       "      <td>15% off</td>\n",
       "      <td>UV Protection Wayfarer Sunglasses (Free Size) ...</td>\n",
       "    </tr>\n",
       "    <tr>\n",
       "      <th>...</th>\n",
       "      <td>...</td>\n",
       "      <td>...</td>\n",
       "      <td>...</td>\n",
       "      <td>...</td>\n",
       "    </tr>\n",
       "    <tr>\n",
       "      <th>115</th>\n",
       "      <td>Wrogn</td>\n",
       "      <td>₹1,175</td>\n",
       "      <td>63% off</td>\n",
       "      <td>Polarized, UV Protection Aviator Sunglasses (5...</td>\n",
       "    </tr>\n",
       "    <tr>\n",
       "      <th>116</th>\n",
       "      <td>Wrogn</td>\n",
       "      <td>₹711</td>\n",
       "      <td>72% off</td>\n",
       "      <td>Mirrored Retro Square Sunglasses (57)  (For Me...</td>\n",
       "    </tr>\n",
       "    <tr>\n",
       "      <th>117</th>\n",
       "      <td>Fastrack</td>\n",
       "      <td>₹1,021</td>\n",
       "      <td>21% off</td>\n",
       "      <td>UV Protection Rectangular Sunglasses (59)  (Fo...</td>\n",
       "    </tr>\n",
       "    <tr>\n",
       "      <th>118</th>\n",
       "      <td>PHENOMENAL</td>\n",
       "      <td>₹319</td>\n",
       "      <td>84% off</td>\n",
       "      <td>UV Protection, Mirrored Clubmaster Sunglasses ...</td>\n",
       "    </tr>\n",
       "    <tr>\n",
       "      <th>119</th>\n",
       "      <td>ROYAL SON</td>\n",
       "      <td>₹751</td>\n",
       "      <td>62% off</td>\n",
       "      <td>Polarized, UV Protection Aviator Sunglasses (5...</td>\n",
       "    </tr>\n",
       "  </tbody>\n",
       "</table>\n",
       "<p>120 rows × 4 columns</p>\n",
       "</div>"
      ],
      "text/plain": [
       "               brand   price discount  \\\n",
       "0             Wrogn     ₹663  73% off   \n",
       "1         ROYAL SON     ₹375  74% off   \n",
       "2    kingsunglasses     ₹299  88% off   \n",
       "3          Fastrack     ₹513  35% off   \n",
       "4          Fastrack     ₹758  15% off   \n",
       "..               ...     ...      ...   \n",
       "115           Wrogn   ₹1,175  63% off   \n",
       "116           Wrogn     ₹711  72% off   \n",
       "117        Fastrack   ₹1,021  21% off   \n",
       "118      PHENOMENAL     ₹319  84% off   \n",
       "119       ROYAL SON     ₹751  62% off   \n",
       "\n",
       "                                           description  \n",
       "0    Mirrored Wayfarer Sunglasses (51)  (For Men & ...  \n",
       "1    Mirrored Aviator Sunglasses (55)  (For Men, Bl...  \n",
       "2    Mirrored, UV Protection Wayfarer Sunglasses (F...  \n",
       "3    UV Protection Rectangular Sunglasses (Free Siz...  \n",
       "4    UV Protection Wayfarer Sunglasses (Free Size) ...  \n",
       "..                                                 ...  \n",
       "115  Polarized, UV Protection Aviator Sunglasses (5...  \n",
       "116  Mirrored Retro Square Sunglasses (57)  (For Me...  \n",
       "117  UV Protection Rectangular Sunglasses (59)  (Fo...  \n",
       "118  UV Protection, Mirrored Clubmaster Sunglasses ...  \n",
       "119  Polarized, UV Protection Aviator Sunglasses (5...  \n",
       "\n",
       "[120 rows x 4 columns]"
      ]
     },
     "execution_count": 138,
     "metadata": {},
     "output_type": "execute_result"
    }
   ],
   "source": [
    "from bs4 import BeautifulSoup\n",
    "import urllib.request\n",
    "import pandas as pd\n",
    "import requests\n",
    "\n",
    "from selenium import webdriver\n",
    "from selenium.webdriver.chrome.options import Options\n",
    "from selenium.webdriver.common.keys import Keys\n",
    "\n",
    "import time\n",
    "\n",
    "def sunglasses_flikpart(url):\n",
    "\n",
    "    opts = Options()\n",
    "    driver = webdriver.Chrome(r\"D:\\Download\\chromedriver.exe\")\n",
    "\n",
    "    opts.add_argument(\"user-agent=Mozilla/5.0 (Windows NT 6.1; Win64; x64) AppleWebKit/537.36 (KHTML, like Gecko) Chrome/87.0.4280.66 Safari/537.36\")\n",
    "\n",
    "\n",
    "\n",
    "    brand, desc, price, discount = [],[],[],[]\n",
    "    counter = 0\n",
    "\n",
    "    driver.get(url)\n",
    "\n",
    "\n",
    "    driver.find_element_by_xpath(\"//button[@class='_2KpZ6l _2doB4z']\").click()  # close the login pop-up\n",
    "\n",
    "    driver.find_element_by_xpath(\"//input[@class='_3704LK']\").clear()\n",
    "    driver.find_element_by_xpath(\"//input[@class='_3704LK']\").send_keys('sunglasses',Keys.RETURN)  # search for sunglasses\n",
    "\n",
    "    window_before = driver.window_handles[0]\n",
    "\n",
    "    time.sleep(3)\n",
    "\n",
    "\n",
    "    while counter < 101:\n",
    "\n",
    "        for block in driver.find_elements_by_xpath(\"//img[@class='_2r_T1I']\"):\n",
    "            block.click()\n",
    "            window_after = driver.window_handles[-1]\n",
    "\n",
    "            driver.switch_to.window(window_after)\n",
    "\n",
    "            time.sleep(2)\n",
    "\n",
    "            brand.append(driver.find_element_by_class_name(\"G6XhRU\").text)\n",
    "            desc.append(driver.find_element_by_class_name(\"B_NuCI\").text)\n",
    "            price.append(driver.find_element_by_xpath(\"//div[@class='_30jeq3 _16Jk6d']\").text)\n",
    "            discount.append(driver.find_element_by_xpath(\"//div[@class='_3Ay6Sb _31Dcoz pZkvcx']/span\").text)    \n",
    "\n",
    "            driver.close()\n",
    "\n",
    "            time.sleep(2)\n",
    "\n",
    "            driver.switch_to.window(window_before)\n",
    "\n",
    "            counter += 1\n",
    "\n",
    "\n",
    "\n",
    "        driver.find_elements_by_xpath(\"//a[@class='_1LKTO3']\")[-1].click()\n",
    "\n",
    "        time.sleep(5)\n",
    "\n",
    "\n",
    "    df = pd.DataFrame(list(zip(brand,price,discount,desc)),columns=['brand','price','discount','description'])\n",
    "\n",
    "    #df.drop_duplicates(inplace=True)\n",
    "\n",
    "    return df\n",
    "    \n",
    "res_df = sunglasses_flikpart('https://www.flipkart.com/')\n",
    "res_df.head(100)"
   ]
  },
  {
   "cell_type": "markdown",
   "id": "b0c222d6",
   "metadata": {},
   "source": [
    "Q7: Scrape 100 reviews data from flipkart.com for iphone11 phone. You have to go the link: https://www.flipkart.com/apple-iphone-11-black-64-gb-includes-earpods-power-adapter/p/itm0f37c2240b217?pid=MOBFKCTSVZAXUHGR&lid=LSTMOBFKCTSVZAXUHGREPBFGI&marketplace."
   ]
  },
  {
   "cell_type": "code",
   "execution_count": 139,
   "id": "b52ce2ff",
   "metadata": {},
   "outputs": [
    {
     "data": {
      "text/html": [
       "<div>\n",
       "<style scoped>\n",
       "    .dataframe tbody tr th:only-of-type {\n",
       "        vertical-align: middle;\n",
       "    }\n",
       "\n",
       "    .dataframe tbody tr th {\n",
       "        vertical-align: top;\n",
       "    }\n",
       "\n",
       "    .dataframe thead th {\n",
       "        text-align: right;\n",
       "    }\n",
       "</style>\n",
       "<table border=\"1\" class=\"dataframe\">\n",
       "  <thead>\n",
       "    <tr style=\"text-align: right;\">\n",
       "      <th></th>\n",
       "      <th>ratings</th>\n",
       "      <th>review_summary</th>\n",
       "      <th>full_summary</th>\n",
       "    </tr>\n",
       "  </thead>\n",
       "  <tbody>\n",
       "    <tr>\n",
       "      <th>0</th>\n",
       "      <td>5</td>\n",
       "      <td>Brilliant</td>\n",
       "      <td>The Best Phone for the Money\\n\\nThe iPhone 11 ...</td>\n",
       "    </tr>\n",
       "    <tr>\n",
       "      <th>1</th>\n",
       "      <td>5</td>\n",
       "      <td>Perfect product!</td>\n",
       "      <td>Amazing phone with great cameras and better ba...</td>\n",
       "    </tr>\n",
       "    <tr>\n",
       "      <th>2</th>\n",
       "      <td>5</td>\n",
       "      <td>Simply awesome</td>\n",
       "      <td>Really satisfied with the Product I received.....</td>\n",
       "    </tr>\n",
       "    <tr>\n",
       "      <th>3</th>\n",
       "      <td>5</td>\n",
       "      <td>Fabulous!</td>\n",
       "      <td>This is my first iOS phone. I am very happy wi...</td>\n",
       "    </tr>\n",
       "    <tr>\n",
       "      <th>4</th>\n",
       "      <td>5</td>\n",
       "      <td>Worth every penny</td>\n",
       "      <td>Previously I was using one plus 3t it was a gr...</td>\n",
       "    </tr>\n",
       "    <tr>\n",
       "      <th>...</th>\n",
       "      <td>...</td>\n",
       "      <td>...</td>\n",
       "      <td>...</td>\n",
       "    </tr>\n",
       "    <tr>\n",
       "      <th>103</th>\n",
       "      <td>5</td>\n",
       "      <td>Mind-blowing purchase</td>\n",
       "      <td>awesome Phone Smooth Touch Too good Sexyy look...</td>\n",
       "    </tr>\n",
       "    <tr>\n",
       "      <th>104</th>\n",
       "      <td>4</td>\n",
       "      <td>Excellent</td>\n",
       "      <td>Just go for it.\\nThis phone is really amazing....</td>\n",
       "    </tr>\n",
       "    <tr>\n",
       "      <th>105</th>\n",
       "      <td>5</td>\n",
       "      <td>Excellent</td>\n",
       "      <td>It was amazing experience for me. Honestly i a...</td>\n",
       "    </tr>\n",
       "    <tr>\n",
       "      <th>106</th>\n",
       "      <td>5</td>\n",
       "      <td>Pretty good</td>\n",
       "      <td>I've used this phone for over a month now and ...</td>\n",
       "    </tr>\n",
       "    <tr>\n",
       "      <th>107</th>\n",
       "      <td>5</td>\n",
       "      <td>Must buy!</td>\n",
       "      <td>I rate this product 5* as it has got amazing u...</td>\n",
       "    </tr>\n",
       "  </tbody>\n",
       "</table>\n",
       "<p>78 rows × 3 columns</p>\n",
       "</div>"
      ],
      "text/plain": [
       "    ratings         review_summary  \\\n",
       "0         5              Brilliant   \n",
       "1         5       Perfect product!   \n",
       "2         5         Simply awesome   \n",
       "3         5              Fabulous!   \n",
       "4         5      Worth every penny   \n",
       "..      ...                    ...   \n",
       "103       5  Mind-blowing purchase   \n",
       "104       4              Excellent   \n",
       "105       5              Excellent   \n",
       "106       5            Pretty good   \n",
       "107       5              Must buy!   \n",
       "\n",
       "                                          full_summary  \n",
       "0    The Best Phone for the Money\\n\\nThe iPhone 11 ...  \n",
       "1    Amazing phone with great cameras and better ba...  \n",
       "2    Really satisfied with the Product I received.....  \n",
       "3    This is my first iOS phone. I am very happy wi...  \n",
       "4    Previously I was using one plus 3t it was a gr...  \n",
       "..                                                 ...  \n",
       "103  awesome Phone Smooth Touch Too good Sexyy look...  \n",
       "104  Just go for it.\\nThis phone is really amazing....  \n",
       "105  It was amazing experience for me. Honestly i a...  \n",
       "106  I've used this phone for over a month now and ...  \n",
       "107  I rate this product 5* as it has got amazing u...  \n",
       "\n",
       "[78 rows x 3 columns]"
      ]
     },
     "execution_count": 139,
     "metadata": {},
     "output_type": "execute_result"
    }
   ],
   "source": [
    "\n",
    "from bs4 import BeautifulSoup\n",
    "import urllib.request\n",
    "import pandas as pd\n",
    "import requests\n",
    "\n",
    "from selenium import webdriver\n",
    "from selenium.webdriver.chrome.options import Options\n",
    "\n",
    "from selenium.webdriver.common.keys import Keys\n",
    "\n",
    "import time\n",
    "\n",
    "def iphone_reviews_flikpart(url):\n",
    "\n",
    "    opts = Options()\n",
    "    driver = webdriver.Chrome(r\"D:\\Download\\chromedriver.exe\")\n",
    "\n",
    "    opts.add_argument(\"user-agent=Mozilla/5.0 (Windows NT 6.1; Win64; x64) AppleWebKit/537.36 (KHTML, like Gecko) Chrome/87.0.4280.66 Safari/537.36\")\n",
    "\n",
    "    #url = \"https://www.flipkart.com/\"\n",
    "\n",
    "    \n",
    "    rating_l,rev_summary_l,full_summary_l = [],[],[]\n",
    "    \n",
    "    counter = 0\n",
    "\n",
    "    driver.get(url)\n",
    "\n",
    "    time.sleep(3)\n",
    "\n",
    "    while counter < 11:\n",
    "\n",
    "\n",
    "        time.sleep(2)\n",
    "        \n",
    "        \n",
    "        for rating in driver.find_elements_by_xpath(\"//div[@class='_3LWZlK _1BLPMq']\"):\n",
    "            rating_l.append(rating.text)\n",
    "        \n",
    "        for rev_summary in driver.find_elements_by_xpath(\"//p[@class='_2-N8zT']\"):\n",
    "            rev_summary_l.append(rev_summary.text)\n",
    "            \n",
    "        for full_summary in driver.find_elements_by_xpath(\"//div[@class='t-ZTKy']/div/div\"):\n",
    "            full_summary_l.append(full_summary.text)\n",
    "             \n",
    "\n",
    "        time.sleep(2)\n",
    "\n",
    "        counter += 1\n",
    "\n",
    "        driver.find_elements_by_xpath(\"//a[@class='_1LKTO3']\")[-1].click()\n",
    "\n",
    "        time.sleep(5)\n",
    "\n",
    "\n",
    "    df = pd.DataFrame(list(zip(rating_l,rev_summary_l,full_summary_l)),columns=['ratings','review_summary','full_summary'])\n",
    "\n",
    "    df.drop_duplicates(inplace=True)\n",
    "\n",
    "    return df\n",
    "    \n",
    "res_df = iphone_reviews_flikpart('https://www.flipkart.com/apple-iphone-11-black-64-gb-includes-earpods-power-adapter/product-reviews/itm0f37c2240b217?pid=MOBFKCTSVZAXUHGR&lid=LSTMOBFKCTSVZAXUHGREPBFGI&marketplace=FLIPKART&page=1')\n",
    "res_df.head(100)"
   ]
  },
  {
   "cell_type": "code",
   "execution_count": 140,
   "id": "a6435d81",
   "metadata": {},
   "outputs": [
    {
     "data": {
      "text/html": [
       "<div>\n",
       "<style scoped>\n",
       "    .dataframe tbody tr th:only-of-type {\n",
       "        vertical-align: middle;\n",
       "    }\n",
       "\n",
       "    .dataframe tbody tr th {\n",
       "        vertical-align: top;\n",
       "    }\n",
       "\n",
       "    .dataframe thead th {\n",
       "        text-align: right;\n",
       "    }\n",
       "</style>\n",
       "<table border=\"1\" class=\"dataframe\">\n",
       "  <thead>\n",
       "    <tr style=\"text-align: right;\">\n",
       "      <th></th>\n",
       "      <th>brand</th>\n",
       "      <th>price</th>\n",
       "      <th>discount</th>\n",
       "      <th>description</th>\n",
       "    </tr>\n",
       "  </thead>\n",
       "  <tbody>\n",
       "    <tr>\n",
       "      <th>0</th>\n",
       "      <td>DUCATI</td>\n",
       "      <td>₹1,445</td>\n",
       "      <td>60% off</td>\n",
       "      <td>Sneakers For Men  (Black)</td>\n",
       "    </tr>\n",
       "    <tr>\n",
       "      <th>1</th>\n",
       "      <td>French Connection</td>\n",
       "      <td>₹1,374</td>\n",
       "      <td>62% off</td>\n",
       "      <td>Sneakers For Men  (Navy)</td>\n",
       "    </tr>\n",
       "    <tr>\n",
       "      <th>2</th>\n",
       "      <td>Robbie jones</td>\n",
       "      <td>₹399</td>\n",
       "      <td>60% off</td>\n",
       "      <td>Casual Sneakers Shoes For Men Sneakers For Men...</td>\n",
       "    </tr>\n",
       "    <tr>\n",
       "      <th>3</th>\n",
       "      <td>Labbin</td>\n",
       "      <td>₹499</td>\n",
       "      <td>50% off</td>\n",
       "      <td>Sneakers For Men  (White)</td>\n",
       "    </tr>\n",
       "    <tr>\n",
       "      <th>4</th>\n",
       "      <td>KULP</td>\n",
       "      <td>₹399</td>\n",
       "      <td>60% off</td>\n",
       "      <td>heart beat Sneakers For Men  (White)</td>\n",
       "    </tr>\n",
       "    <tr>\n",
       "      <th>...</th>\n",
       "      <td>...</td>\n",
       "      <td>...</td>\n",
       "      <td>...</td>\n",
       "      <td>...</td>\n",
       "    </tr>\n",
       "    <tr>\n",
       "      <th>115</th>\n",
       "      <td>STRANGER BROTHERS</td>\n",
       "      <td>₹475</td>\n",
       "      <td>52% off</td>\n",
       "      <td>Sneakers For Men  (White, Black)</td>\n",
       "    </tr>\n",
       "    <tr>\n",
       "      <th>116</th>\n",
       "      <td>Fzzirok</td>\n",
       "      <td>₹399</td>\n",
       "      <td>60% off</td>\n",
       "      <td>Sneakers For Men  (Black)</td>\n",
       "    </tr>\n",
       "    <tr>\n",
       "      <th>117</th>\n",
       "      <td>NIKE</td>\n",
       "      <td>₹2,429</td>\n",
       "      <td>45% off</td>\n",
       "      <td>Court Royale Shoe Sneakers For Men  (Black)</td>\n",
       "    </tr>\n",
       "    <tr>\n",
       "      <th>118</th>\n",
       "      <td>Zsyto</td>\n",
       "      <td>₹398</td>\n",
       "      <td>69% off</td>\n",
       "      <td>Casual sneaker shoes for men Sneakers For Men ...</td>\n",
       "    </tr>\n",
       "    <tr>\n",
       "      <th>119</th>\n",
       "      <td>DUCATI</td>\n",
       "      <td>₹749</td>\n",
       "      <td>70% off</td>\n",
       "      <td>Sneakers For Men  (Navy)</td>\n",
       "    </tr>\n",
       "  </tbody>\n",
       "</table>\n",
       "<p>120 rows × 4 columns</p>\n",
       "</div>"
      ],
      "text/plain": [
       "                  brand   price discount  \\\n",
       "0               DUCATI   ₹1,445  60% off   \n",
       "1    French Connection   ₹1,374  62% off   \n",
       "2         Robbie jones     ₹399  60% off   \n",
       "3               Labbin     ₹499  50% off   \n",
       "4                 KULP     ₹399  60% off   \n",
       "..                  ...     ...      ...   \n",
       "115  STRANGER BROTHERS     ₹475  52% off   \n",
       "116            Fzzirok     ₹399  60% off   \n",
       "117               NIKE   ₹2,429  45% off   \n",
       "118              Zsyto     ₹398  69% off   \n",
       "119             DUCATI     ₹749  70% off   \n",
       "\n",
       "                                           description  \n",
       "0                            Sneakers For Men  (Black)  \n",
       "1                             Sneakers For Men  (Navy)  \n",
       "2    Casual Sneakers Shoes For Men Sneakers For Men...  \n",
       "3                            Sneakers For Men  (White)  \n",
       "4                 heart beat Sneakers For Men  (White)  \n",
       "..                                                 ...  \n",
       "115                   Sneakers For Men  (White, Black)  \n",
       "116                          Sneakers For Men  (Black)  \n",
       "117        Court Royale Shoe Sneakers For Men  (Black)  \n",
       "118  Casual sneaker shoes for men Sneakers For Men ...  \n",
       "119                           Sneakers For Men  (Navy)  \n",
       "\n",
       "[120 rows x 4 columns]"
      ]
     },
     "execution_count": 140,
     "metadata": {},
     "output_type": "execute_result"
    }
   ],
   "source": [
    "from bs4 import BeautifulSoup\n",
    "import urllib.request\n",
    "import pandas as pd\n",
    "import requests\n",
    "\n",
    "from selenium import webdriver\n",
    "from selenium.webdriver.chrome.options import Options\n",
    "from selenium.webdriver.common.keys import Keys\n",
    "\n",
    "import time\n",
    "\n",
    "def sunglasses_flikpart(url):\n",
    "\n",
    "    opts = Options()\n",
    "    driver = webdriver.Chrome(r\"D:\\Download\\chromedriver.exe\")\n",
    "\n",
    "    opts.add_argument(\"user-agent=Mozilla/5.0 (Windows NT 6.1; Win64; x64) AppleWebKit/537.36 (KHTML, like Gecko) Chrome/87.0.4280.66 Safari/537.36\")\n",
    "\n",
    "\n",
    "\n",
    "    brand, desc, price, discount = [],[],[],[]\n",
    "    counter = 0\n",
    "\n",
    "    driver.get(url)\n",
    "\n",
    "\n",
    "    driver.find_element_by_xpath(\"//button[@class='_2KpZ6l _2doB4z']\").click()  # close the login pop-up\n",
    "\n",
    "    driver.find_element_by_xpath(\"//input[@class='_3704LK']\").clear()\n",
    "    driver.find_element_by_xpath(\"//input[@class='_3704LK']\").send_keys('sneakers',Keys.RETURN)  # search for sunglasses\n",
    "\n",
    "    window_before = driver.window_handles[0]\n",
    "\n",
    "    time.sleep(3)\n",
    "\n",
    "\n",
    "    while counter < 101:\n",
    "\n",
    "        for block in driver.find_elements_by_xpath(\"//img[@class='_2r_T1I']\"):\n",
    "            block.click()\n",
    "            window_after = driver.window_handles[-1]\n",
    "\n",
    "            driver.switch_to.window(window_after)\n",
    "\n",
    "            time.sleep(2)\n",
    "\n",
    "            brand.append(driver.find_element_by_class_name(\"G6XhRU\").text)\n",
    "            desc.append(driver.find_element_by_class_name(\"B_NuCI\").text)\n",
    "            price.append(driver.find_element_by_xpath(\"//div[@class='_30jeq3 _16Jk6d']\").text)\n",
    "            discount.append(driver.find_element_by_xpath(\"//div[@class='_3Ay6Sb _31Dcoz pZkvcx']/span\").text)    \n",
    "\n",
    "            driver.close()\n",
    "\n",
    "            time.sleep(2)\n",
    "\n",
    "            driver.switch_to.window(window_before)\n",
    "\n",
    "            counter += 1\n",
    "\n",
    "\n",
    "\n",
    "        driver.find_elements_by_xpath(\"//a[@class='_1LKTO3']\")[-1].click()\n",
    "\n",
    "        time.sleep(5)\n",
    "\n",
    "\n",
    "    df = pd.DataFrame(list(zip(brand,price,discount,desc)),columns=['brand','price','discount','description'])\n",
    "\n",
    "    #df.drop_duplicates(inplace=True)\n",
    "\n",
    "    return df\n",
    "    \n",
    "res_df = sunglasses_flikpart('https://www.flipkart.com/')\n",
    "res_df"
   ]
  },
  {
   "cell_type": "code",
   "execution_count": null,
   "id": "b9877cdf",
   "metadata": {},
   "outputs": [],
   "source": [
    "res_df.head(100)"
   ]
  },
  {
   "cell_type": "markdown",
   "id": "5ab54378",
   "metadata": {},
   "source": [
    "# Q9.MINTRA"
   ]
  },
  {
   "cell_type": "code",
   "execution_count": 141,
   "id": "8a065bc7",
   "metadata": {},
   "outputs": [
    {
     "data": {
      "text/html": [
       "<div>\n",
       "<style scoped>\n",
       "    .dataframe tbody tr th:only-of-type {\n",
       "        vertical-align: middle;\n",
       "    }\n",
       "\n",
       "    .dataframe tbody tr th {\n",
       "        vertical-align: top;\n",
       "    }\n",
       "\n",
       "    .dataframe thead th {\n",
       "        text-align: right;\n",
       "    }\n",
       "</style>\n",
       "<table border=\"1\" class=\"dataframe\">\n",
       "  <thead>\n",
       "    <tr style=\"text-align: right;\">\n",
       "      <th></th>\n",
       "      <th>brand</th>\n",
       "      <th>price</th>\n",
       "      <th>description</th>\n",
       "    </tr>\n",
       "  </thead>\n",
       "  <tbody>\n",
       "    <tr>\n",
       "      <th>0</th>\n",
       "      <td>Nike</td>\n",
       "      <td>Rs. 12316</td>\n",
       "      <td>Unisex Black LEBRON XVIII Mid-Top Basketball S...</td>\n",
       "    </tr>\n",
       "    <tr>\n",
       "      <th>1</th>\n",
       "      <td>Nike</td>\n",
       "      <td>Rs. 7721</td>\n",
       "      <td>Men Black AIR ZOOM STRUCTURE 23 Running Shoes</td>\n",
       "    </tr>\n",
       "    <tr>\n",
       "      <th>2</th>\n",
       "      <td>Nike</td>\n",
       "      <td>Rs. 12745</td>\n",
       "      <td>Men Black &amp; Yellow JOYRIDE Running Shoes</td>\n",
       "    </tr>\n",
       "    <tr>\n",
       "      <th>3</th>\n",
       "      <td>PUMA Hoops</td>\n",
       "      <td>Rs. 7699</td>\n",
       "      <td>Unisex Black Clyde All-Pro Basketball Shoes</td>\n",
       "    </tr>\n",
       "    <tr>\n",
       "      <th>4</th>\n",
       "      <td>ALDO</td>\n",
       "      <td>Rs. 9999</td>\n",
       "      <td>Men Black Sneakers</td>\n",
       "    </tr>\n",
       "    <tr>\n",
       "      <th>...</th>\n",
       "      <td>...</td>\n",
       "      <td>...</td>\n",
       "      <td>...</td>\n",
       "    </tr>\n",
       "    <tr>\n",
       "      <th>95</th>\n",
       "      <td>Lacoste</td>\n",
       "      <td>Rs. 8650</td>\n",
       "      <td>Men Black Colourblocked Sneakers</td>\n",
       "    </tr>\n",
       "    <tr>\n",
       "      <th>96</th>\n",
       "      <td>ASICS</td>\n",
       "      <td>Rs. 11999</td>\n",
       "      <td>Men Black Synthetic Running Shoes</td>\n",
       "    </tr>\n",
       "    <tr>\n",
       "      <th>97</th>\n",
       "      <td>Lacoste</td>\n",
       "      <td>Rs. 7052</td>\n",
       "      <td>Men Black Woven Design Casual Sneakers</td>\n",
       "    </tr>\n",
       "    <tr>\n",
       "      <th>98</th>\n",
       "      <td>KLEAT</td>\n",
       "      <td>Rs. 7999</td>\n",
       "      <td>Men Black Woven Design Sneakers</td>\n",
       "    </tr>\n",
       "    <tr>\n",
       "      <th>99</th>\n",
       "      <td>Ruosh</td>\n",
       "      <td>Rs. 6990</td>\n",
       "      <td>Men Black Leather Formal Brogues</td>\n",
       "    </tr>\n",
       "  </tbody>\n",
       "</table>\n",
       "<p>100 rows × 3 columns</p>\n",
       "</div>"
      ],
      "text/plain": [
       "         brand      price                                        description\n",
       "0         Nike  Rs. 12316  Unisex Black LEBRON XVIII Mid-Top Basketball S...\n",
       "1         Nike   Rs. 7721      Men Black AIR ZOOM STRUCTURE 23 Running Shoes\n",
       "2         Nike  Rs. 12745           Men Black & Yellow JOYRIDE Running Shoes\n",
       "3   PUMA Hoops   Rs. 7699        Unisex Black Clyde All-Pro Basketball Shoes\n",
       "4         ALDO   Rs. 9999                                 Men Black Sneakers\n",
       "..         ...        ...                                                ...\n",
       "95     Lacoste   Rs. 8650                   Men Black Colourblocked Sneakers\n",
       "96       ASICS  Rs. 11999                  Men Black Synthetic Running Shoes\n",
       "97     Lacoste   Rs. 7052             Men Black Woven Design Casual Sneakers\n",
       "98       KLEAT   Rs. 7999                    Men Black Woven Design Sneakers\n",
       "99       Ruosh   Rs. 6990                   Men Black Leather Formal Brogues\n",
       "\n",
       "[100 rows x 3 columns]"
      ]
     },
     "execution_count": 141,
     "metadata": {},
     "output_type": "execute_result"
    }
   ],
   "source": [
    "from bs4 import BeautifulSoup\n",
    "import urllib.request\n",
    "import pandas as pd\n",
    "import requests\n",
    "\n",
    "from selenium import webdriver\n",
    "from selenium.webdriver.chrome.options import Options\n",
    "\n",
    "\n",
    "import time\n",
    "\n",
    "\n",
    "\n",
    "def sneaker_filter_scrape_myn(url):\n",
    "    opts = Options()\n",
    "    driver = webdriver.Chrome(r\"D:\\Download\\chromedriver.exe\")\n",
    "\n",
    "    opts.add_argument(\"user-agent=Mozilla/5.0 (Windows NT 6.1; Win64; x64) AppleWebKit/537.36 (KHTML, like Gecko) Chrome/87.0.4280.66 Safari/537.36\")\n",
    "\n",
    "    \n",
    "    driver.get(url)\n",
    "\n",
    "\n",
    "    driver.find_element_by_xpath(\"//input[@value='6649.0 TO 13099.0']/following-sibling::div\").click()\n",
    "    time.sleep(2)\n",
    "    driver.find_element_by_xpath(\"//input[@value='Black']/following-sibling::div\").click()\n",
    "\n",
    "    time.sleep(2)\n",
    "\n",
    "    window_before = driver.window_handles[0]\n",
    "\n",
    "    brand, desc, price= [],[],[]\n",
    "    counter = 0\n",
    "\n",
    "    while counter < 3:\n",
    "\n",
    "        for block in driver.find_elements_by_xpath(\"//div[@class='product-sliderContainer']\"):\n",
    "            block.click()\n",
    "            window_after = driver.window_handles[-1]\n",
    "\n",
    "            driver.switch_to.window(window_after)\n",
    "\n",
    "            time.sleep(2)\n",
    "\n",
    "\n",
    "            brand.append(driver.find_element_by_xpath(\"//h1[@class='pdp-title']\").text)\n",
    "            desc.append(driver.find_element_by_xpath(\"//h1[@class='pdp-name']\").text)\n",
    "            price.append(driver.find_element_by_xpath(\"//span/strong\").text)\n",
    "\n",
    "\n",
    "            driver.close()\n",
    "\n",
    "            time.sleep(2)\n",
    "\n",
    "            driver.switch_to.window(window_before)\n",
    "\n",
    "        counter += 1\n",
    "\n",
    "\n",
    "        driver.find_element_by_xpath(\"//a[@rel='next']\").click()\n",
    "\n",
    "        time.sleep(5)\n",
    "\n",
    "\n",
    "    df = pd.DataFrame(list(zip(brand,price,desc)),columns=['brand','price','description'])\n",
    "\n",
    "    return df\n",
    "\n",
    "\n",
    "res_df = sneaker_filter_scrape_myn('https://www.myntra.com/shoes')\n",
    "res_df.head(100)"
   ]
  },
  {
   "cell_type": "markdown",
   "id": "5195af42",
   "metadata": {},
   "source": [
    "Q10.AMAZON Review"
   ]
  },
  {
   "cell_type": "code",
   "execution_count": 143,
   "id": "3ce3f1e3",
   "metadata": {},
   "outputs": [
    {
     "data": {
      "text/html": [
       "<div>\n",
       "<style scoped>\n",
       "    .dataframe tbody tr th:only-of-type {\n",
       "        vertical-align: middle;\n",
       "    }\n",
       "\n",
       "    .dataframe tbody tr th {\n",
       "        vertical-align: top;\n",
       "    }\n",
       "\n",
       "    .dataframe thead th {\n",
       "        text-align: right;\n",
       "    }\n",
       "</style>\n",
       "<table border=\"1\" class=\"dataframe\">\n",
       "  <thead>\n",
       "    <tr style=\"text-align: right;\">\n",
       "      <th></th>\n",
       "      <th>title_l</th>\n",
       "      <th>price</th>\n",
       "      <th>ratings</th>\n",
       "    </tr>\n",
       "  </thead>\n",
       "  <tbody>\n",
       "    <tr>\n",
       "      <th>0</th>\n",
       "      <td>Dell 14 (2021) i7-1165G7 2in1 Touch Screen Lap...</td>\n",
       "      <td>91,390</td>\n",
       "      <td>4.6 out of 5 stars</td>\n",
       "    </tr>\n",
       "    <tr>\n",
       "      <th>1</th>\n",
       "      <td>HP Pavilion (2021) Thin &amp; Light 11th Gen Core ...</td>\n",
       "      <td>84,990</td>\n",
       "      <td>4.4 out of 5 stars</td>\n",
       "    </tr>\n",
       "    <tr>\n",
       "      <th>2</th>\n",
       "      <td>HP Pavilion Gaming 10th Gen Intel Core i7 Proc...</td>\n",
       "      <td>96,555</td>\n",
       "      <td>4.2 out of 5 stars</td>\n",
       "    </tr>\n",
       "    <tr>\n",
       "      <th>3</th>\n",
       "      <td>Mi Notebook Horizon Edition 14 Intel Core i7-1...</td>\n",
       "      <td>59,999</td>\n",
       "      <td>4.4 out of 5 stars</td>\n",
       "    </tr>\n",
       "    <tr>\n",
       "      <th>4</th>\n",
       "      <td>Lenovo Legion Y540 Intel Core i7 9th Gen 15.6”...</td>\n",
       "      <td>69,990</td>\n",
       "      <td>4.3 out of 5 stars</td>\n",
       "    </tr>\n",
       "    <tr>\n",
       "      <th>5</th>\n",
       "      <td>Lenovo Ideapad 5 Intel i7 11th Gen 15.6\" Thin ...</td>\n",
       "      <td>84,990</td>\n",
       "      <td>4.5 out of 5 stars</td>\n",
       "    </tr>\n",
       "    <tr>\n",
       "      <th>6</th>\n",
       "      <td>ASUS TUF Gaming F15 (2021), 15.6-inch (39.62 c...</td>\n",
       "      <td>1,39,990</td>\n",
       "      <td>5.0 out of 5 stars</td>\n",
       "    </tr>\n",
       "    <tr>\n",
       "      <th>7</th>\n",
       "      <td>HP Pavilion x360 (2021) 14\" (35.56cms) FHD Tou...</td>\n",
       "      <td>78,993</td>\n",
       "      <td>4.0 out of 5 stars</td>\n",
       "    </tr>\n",
       "    <tr>\n",
       "      <th>8</th>\n",
       "      <td>ASUS ROG Zephyrus S17 (2020), 17.3\" FHD 300Hz/...</td>\n",
       "      <td>1,65,990</td>\n",
       "      <td>3.6 out of 5 stars</td>\n",
       "    </tr>\n",
       "    <tr>\n",
       "      <th>9</th>\n",
       "      <td>(Renewed) Dell Intel Core i7 4th Gen 14 Inch(3...</td>\n",
       "      <td>49,999</td>\n",
       "      <td>1.0 out of 5 stars</td>\n",
       "    </tr>\n",
       "  </tbody>\n",
       "</table>\n",
       "</div>"
      ],
      "text/plain": [
       "                                             title_l     price  \\\n",
       "0  Dell 14 (2021) i7-1165G7 2in1 Touch Screen Lap...    91,390   \n",
       "1  HP Pavilion (2021) Thin & Light 11th Gen Core ...    84,990   \n",
       "2  HP Pavilion Gaming 10th Gen Intel Core i7 Proc...    96,555   \n",
       "3  Mi Notebook Horizon Edition 14 Intel Core i7-1...    59,999   \n",
       "4  Lenovo Legion Y540 Intel Core i7 9th Gen 15.6”...    69,990   \n",
       "5  Lenovo Ideapad 5 Intel i7 11th Gen 15.6\" Thin ...    84,990   \n",
       "6  ASUS TUF Gaming F15 (2021), 15.6-inch (39.62 c...  1,39,990   \n",
       "7  HP Pavilion x360 (2021) 14\" (35.56cms) FHD Tou...    78,993   \n",
       "8  ASUS ROG Zephyrus S17 (2020), 17.3\" FHD 300Hz/...  1,65,990   \n",
       "9  (Renewed) Dell Intel Core i7 4th Gen 14 Inch(3...    49,999   \n",
       "\n",
       "              ratings  \n",
       "0  4.6 out of 5 stars  \n",
       "1  4.4 out of 5 stars  \n",
       "2  4.2 out of 5 stars  \n",
       "3  4.4 out of 5 stars  \n",
       "4  4.3 out of 5 stars  \n",
       "5  4.5 out of 5 stars  \n",
       "6  5.0 out of 5 stars  \n",
       "7  4.0 out of 5 stars  \n",
       "8  3.6 out of 5 stars  \n",
       "9  1.0 out of 5 stars  "
      ]
     },
     "execution_count": 143,
     "metadata": {},
     "output_type": "execute_result"
    }
   ],
   "source": [
    "from bs4 import BeautifulSoup\n",
    "import urllib.request\n",
    "import pandas as pd\n",
    "import requests\n",
    "\n",
    "from selenium import webdriver\n",
    "from selenium.webdriver.chrome.options import Options\n",
    "\n",
    "from selenium.webdriver.common.keys import Keys\n",
    "import time\n",
    "\n",
    "\n",
    "\n",
    "def laptops_i7i9_amz(url):\n",
    "\n",
    "    opts = Options()\n",
    "    driver = webdriver.Chrome(r\"D:\\Download\\chromedriver.exe\")\n",
    "\n",
    "    opts.add_argument(\"user-agent=Mozilla/5.0 (Windows NT 6.1; Win64; x64) AppleWebKit/537.36 (KHTML, like Gecko) Chrome/87.0.4280.66 Safari/537.36\")\n",
    "\n",
    "    title_l,price_l,ratings_l = [],[],[]   \n",
    "\n",
    "    driver.get(url)\n",
    "\n",
    "    counter = 0\n",
    "\n",
    "    time.sleep(2)\n",
    "\n",
    "    driver.find_element_by_xpath(\"//input[@id='twotabsearchtextbox']\").send_keys('Laptop',Keys.RETURN)\n",
    "\n",
    "\n",
    "    driver.find_element_by_xpath(\"//li[@aria-label='Intel Core i7']/span\").click()\n",
    "    time.sleep(2)\n",
    "    driver.find_element_by_xpath(\"//li[@aria-label='Intel Core i9']/span\").click()\n",
    "\n",
    "    time.sleep(5)    \n",
    "\n",
    "\n",
    "    while True:\n",
    "\n",
    "        html = driver.page_source\n",
    "        soup = BeautifulSoup(html)\n",
    "\n",
    "        for i in soup.find_all('div',attrs={'data-component-type':'s-search-result'}):\n",
    "           #title_l.append(i.find('',attrs={'class':'a-size-medium a-color-base a-text-normal'}).text)\n",
    "           #t = i.find('span',attrs='class':'a-size-medium a-color-base a-text-normal')\n",
    "            t = i.find('span',attrs={'class':'a-size-medium a-color-base a-text-normal'})\n",
    "            if t is not None:            \n",
    "                title_l.append(i.find('span',attrs={'class':'a-size-medium a-color-base a-text-normal'}).text)\n",
    "            else:\n",
    "                title_l.append('?')\n",
    "            p = i.find('span',attrs={'class':'a-price-whole'})\n",
    "            if p is not None:            \n",
    "                price_l.append(i.find('span',attrs={'class':'a-price-whole'}).text)\n",
    "            else:\n",
    "                price_l.append('?')\n",
    "\n",
    "            z = i.find('span',attrs={'class':'a-icon-alt'})            \n",
    "            if z is not None:    \n",
    "                ratings_l.append(i.find('span',attrs={'class':'a-icon-alt'}).text)\n",
    "            else:\n",
    "                ratings_l.append('Not_rated')\n",
    "\n",
    "            counter += 1\n",
    "\n",
    "            if counter > 99:\n",
    "                break\n",
    "\n",
    "\n",
    "        if counter > 99:\n",
    "            break\n",
    "\n",
    "\n",
    "        driver.find_element_by_xpath(\"//li[@class='a-last']\").click()\n",
    "\n",
    "        time.sleep(5)\n",
    "\n",
    "\n",
    "    df = pd.DataFrame(list(zip(title_l,price_l,ratings_l)),columns=['title_l','price','ratings'])\n",
    "\n",
    "\n",
    "    return df\n",
    "\n",
    "res_df = laptops_i7i9_amz('https://www.amazon.in/')\n",
    "\n",
    "res_df.head(10)"
   ]
  },
  {
   "cell_type": "code",
   "execution_count": null,
   "id": "dcdb87fb",
   "metadata": {},
   "outputs": [],
   "source": []
  }
 ],
 "metadata": {
  "kernelspec": {
   "display_name": "Python 3",
   "language": "python",
   "name": "python3"
  },
  "language_info": {
   "codemirror_mode": {
    "name": "ipython",
    "version": 3
   },
   "file_extension": ".py",
   "mimetype": "text/x-python",
   "name": "python",
   "nbconvert_exporter": "python",
   "pygments_lexer": "ipython3",
   "version": "3.8.8"
  }
 },
 "nbformat": 4,
 "nbformat_minor": 5
}
